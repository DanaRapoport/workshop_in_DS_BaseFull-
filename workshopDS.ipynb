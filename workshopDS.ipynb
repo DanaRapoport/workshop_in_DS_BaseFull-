{
  "nbformat": 4,
  "nbformat_minor": 0,
  "metadata": {
    "colab": {
      "name": "workshopDS.ipynb",
      "version": "0.3.2",
      "provenance": [],
      "toc_visible": true
    },
    "kernelspec": {
      "name": "python3",
      "display_name": "Python 3"
    }
  },
  "cells": [
    {
      "metadata": {
        "id": "SXnboOxHqIiO",
        "colab_type": "text"
      },
      "cell_type": "markdown",
      "source": [
        "## General information\n",
        "\n",
        "This notebook is the final project in the Workshop In Data Science course at Tel-Aviv university on 2018/19 academic year. \n",
        "The goal of this project is to predict Major League Baseball game attendance.\n",
        "It contains all phases of the project - from cleaning to evaluation.\n",
        "\n",
        "The project was done by:\n",
        "Ran Erez, \n",
        "Eidan Wasser, \n",
        "Elkana Gamliel and\n",
        "Dana Rapoport"
      ]
    },
    {
      "metadata": {
        "id": "hmY8oHqBqIiQ",
        "colab_type": "text"
      },
      "cell_type": "markdown",
      "source": [
        "![](https://upload.wikimedia.org/wikipedia/commons/9/98/Angels_Stadium.JPG)"
      ]
    },
    {
      "metadata": {
        "id": "s_rPgdFpqIiQ",
        "colab_type": "text"
      },
      "cell_type": "markdown",
      "source": [
        "### Importing libraries and getting data"
      ]
    },
    {
      "metadata": {
        "id": "zVxiriE2qIiR",
        "colab_type": "code",
        "colab": {
          "base_uri": "https://localhost:8080/",
          "height": 187
        },
        "outputId": "e3b62dc9-bb5e-441c-be72-38b554232b14"
      },
      "cell_type": "code",
      "source": [
        "from feature_engineering import *\n",
        "import pandas as pd\n",
        "pd.options.mode.chained_assignment = None\n",
        "import matplotlib.pyplot as plt\n",
        "import numpy as np\n",
        "from numpy import mean, std\n",
        "import numpy.ma as ma\n",
        "import csv\n",
        "import math\n",
        "import copy\n",
        "from bisect import bisect_left as bisect\n",
        "!pip install tqdm\n",
        "from tqdm import tqdm\n",
        "from IPython.display import HTML\n",
        "from collections import defaultdict\n",
        "from datetime import date, datetime\n",
        "import seaborn as sns\n",
        "from pandas.api.types import CategoricalDtype\n",
        "from pandas.tools import plotting\n",
        "from pandas.plotting import scatter_matrix\n",
        "from scipy import stats\n",
        "from sklearn import linear_model\n",
        "from sklearn.model_selection import cross_val_score\n",
        "from sklearn.model_selection import train_test_split\n",
        "from sklearn import feature_selection\n",
        "from sklearn.linear_model import Ridge\n",
        "from sklearn.linear_model import Lasso\n",
        "from sklearn.neighbors import KNeighborsRegressor\n",
        "from sklearn.neighbors import KNeighborsClassifier\n",
        "from sklearn.decomposition import PCA\n",
        "from sklearn.ensemble import RandomForestRegressor\n",
        "!pip install h2o\n",
        "import h2o\n",
        "from h2o.estimators import H2ORandomForestEstimator\n",
        "from h2o.estimators.gbm import H2OGradientBoostingEstimator"
      ],
      "execution_count": 25,
      "outputs": [
        {
          "output_type": "stream",
          "text": [
            "Requirement already satisfied: tqdm in /usr/local/lib/python3.6/dist-packages (4.28.1)\n",
            "Requirement already satisfied: h2o in /usr/local/lib/python3.6/dist-packages (3.22.1.4)\n",
            "Requirement already satisfied: colorama>=0.3.8 in /usr/local/lib/python3.6/dist-packages (from h2o) (0.4.1)\n",
            "Requirement already satisfied: tabulate in /usr/local/lib/python3.6/dist-packages (from h2o) (0.8.3)\n",
            "Requirement already satisfied: requests in /usr/local/lib/python3.6/dist-packages (from h2o) (2.18.4)\n",
            "Requirement already satisfied: future in /usr/local/lib/python3.6/dist-packages (from h2o) (0.16.0)\n",
            "Requirement already satisfied: idna<2.7,>=2.5 in /usr/local/lib/python3.6/dist-packages (from requests->h2o) (2.6)\n",
            "Requirement already satisfied: certifi>=2017.4.17 in /usr/local/lib/python3.6/dist-packages (from requests->h2o) (2018.11.29)\n",
            "Requirement already satisfied: chardet<3.1.0,>=3.0.2 in /usr/local/lib/python3.6/dist-packages (from requests->h2o) (3.0.4)\n",
            "Requirement already satisfied: urllib3<1.23,>=1.21.1 in /usr/local/lib/python3.6/dist-packages (from requests->h2o) (1.22)\n"
          ],
          "name": "stdout"
        }
      ]
    },
    {
      "metadata": {
        "id": "xEEmK1IqqIiV",
        "colab_type": "code",
        "colab": {}
      },
      "cell_type": "code",
      "source": [
        "data = pd.read_csv(\"GL1990_2017.csv\")"
      ],
      "execution_count": 0,
      "outputs": []
    },
    {
      "metadata": {
        "id": "4fXFQUMEqIiX",
        "colab_type": "text"
      },
      "cell_type": "markdown",
      "source": [
        "## Dataset analysis\n",
        "\n",
        "We have a really interesting dataset which contains MLB log games between 1990 to 2017!\n",
        "Now let's have a look at the data itself. We can see trends, distributions and correlations."
      ]
    },
    {
      "metadata": {
        "id": "vd7AzfcYqIiX",
        "colab_type": "code",
        "colab": {
          "base_uri": "https://localhost:8080/",
          "height": 224
        },
        "outputId": "f5dd8f42-652b-4c6a-b77c-610fc8673858"
      },
      "cell_type": "code",
      "source": [
        "pd.set_option('display.max_columns', 200)\n",
        "data.head()"
      ],
      "execution_count": 27,
      "outputs": [
        {
          "output_type": "execute_result",
          "data": {
            "text/html": [
              "<div>\n",
              "<style scoped>\n",
              "    .dataframe tbody tr th:only-of-type {\n",
              "        vertical-align: middle;\n",
              "    }\n",
              "\n",
              "    .dataframe tbody tr th {\n",
              "        vertical-align: top;\n",
              "    }\n",
              "\n",
              "    .dataframe thead th {\n",
              "        text-align: right;\n",
              "    }\n",
              "</style>\n",
              "<table border=\"1\" class=\"dataframe\">\n",
              "  <thead>\n",
              "    <tr style=\"text-align: right;\">\n",
              "      <th></th>\n",
              "      <th>season</th>\n",
              "      <th>date</th>\n",
              "      <th>number_of_game</th>\n",
              "      <th>day_of_week</th>\n",
              "      <th>visiting_team</th>\n",
              "      <th>visiting_team_league</th>\n",
              "      <th>visiting_team_game_number</th>\n",
              "      <th>home_team</th>\n",
              "      <th>home_team_league</th>\n",
              "      <th>home_team_game_number</th>\n",
              "      <th>visiting_team_runs</th>\n",
              "      <th>home_team_runs</th>\n",
              "      <th>game_time</th>\n",
              "      <th>completion_info</th>\n",
              "      <th>park_id</th>\n",
              "      <th>attendance</th>\n",
              "      <th>visiting_team_hits</th>\n",
              "      <th>visiting_team_home_runs</th>\n",
              "      <th>home_team_hits</th>\n",
              "      <th>home_team_home_runs</th>\n",
              "      <th>winning_pitcher_id</th>\n",
              "      <th>winning_pitcher_name</th>\n",
              "      <th>losing_pitcher_id</th>\n",
              "      <th>losing_pitcher_name</th>\n",
              "      <th>saving_pitcher_id</th>\n",
              "      <th>saving_pitcher_name</th>\n",
              "      <th>game_winning_rbi_batter_id</th>\n",
              "      <th>game_winning_rbi_batter_name</th>\n",
              "      <th>visiting_pitcher_id</th>\n",
              "      <th>visiting_pitcher_name</th>\n",
              "      <th>home_pitcher_id</th>\n",
              "      <th>home_pitcher_name</th>\n",
              "      <th>visiting_player1_id</th>\n",
              "      <th>visiting_player1_name</th>\n",
              "      <th>visiting_player1_pos</th>\n",
              "      <th>visiting_player2_id</th>\n",
              "      <th>visiting_player2_name</th>\n",
              "      <th>visiting_player2_pos</th>\n",
              "      <th>visiting_player3_id</th>\n",
              "      <th>visiting_player3_name</th>\n",
              "      <th>visiting_player3_pos</th>\n",
              "      <th>visiting_player4_id</th>\n",
              "      <th>visiting_player4_name</th>\n",
              "      <th>visiting_player4_pos</th>\n",
              "      <th>visiting_player5_id</th>\n",
              "      <th>visiting_player5_name</th>\n",
              "      <th>visiting_player5_pos</th>\n",
              "      <th>visiting_player6_id</th>\n",
              "      <th>visiting_player6_name</th>\n",
              "      <th>visiting_player6_pos</th>\n",
              "      <th>visiting_player7_id</th>\n",
              "      <th>visiting_player7_name</th>\n",
              "      <th>visiting_player7_pos</th>\n",
              "      <th>visiting_player8_id</th>\n",
              "      <th>visiting_player8_name</th>\n",
              "      <th>visiting_player8_pos</th>\n",
              "      <th>visiting_player9_id</th>\n",
              "      <th>visiting_player9_name</th>\n",
              "      <th>visiting_player9_pos</th>\n",
              "      <th>home_player1_id</th>\n",
              "      <th>home_player1_name</th>\n",
              "      <th>home_player1_pos</th>\n",
              "      <th>home_player2_id</th>\n",
              "      <th>home_player2_name</th>\n",
              "      <th>home_player2_pos</th>\n",
              "      <th>home_player3_id</th>\n",
              "      <th>home_player3_name</th>\n",
              "      <th>home_player3_pos</th>\n",
              "      <th>home_player4_id</th>\n",
              "      <th>home_player4_name</th>\n",
              "      <th>home_player4_pos</th>\n",
              "      <th>home_player5_id</th>\n",
              "      <th>home_player5_name</th>\n",
              "      <th>home_player5_pos</th>\n",
              "      <th>home_player6_id</th>\n",
              "      <th>home_player6_name</th>\n",
              "      <th>home_player6_pos</th>\n",
              "      <th>home_player7_id</th>\n",
              "      <th>home_player7_name</th>\n",
              "      <th>home_player7_pos</th>\n",
              "      <th>home_player8_id</th>\n",
              "      <th>home_player8_name</th>\n",
              "      <th>home_player8_pos</th>\n",
              "      <th>home_player9_id</th>\n",
              "      <th>home_player9_name</th>\n",
              "      <th>home_player9_pos</th>\n",
              "      <th>acquisition_info</th>\n",
              "    </tr>\n",
              "  </thead>\n",
              "  <tbody>\n",
              "    <tr>\n",
              "      <th>0</th>\n",
              "      <td>1990</td>\n",
              "      <td>4/9/1990</td>\n",
              "      <td>0</td>\n",
              "      <td>Mon</td>\n",
              "      <td>DET</td>\n",
              "      <td>AL</td>\n",
              "      <td>1</td>\n",
              "      <td>BOS</td>\n",
              "      <td>AL</td>\n",
              "      <td>1</td>\n",
              "      <td>2</td>\n",
              "      <td>5</td>\n",
              "      <td>D</td>\n",
              "      <td>NaN</td>\n",
              "      <td>BOS07</td>\n",
              "      <td>35199.0</td>\n",
              "      <td>5</td>\n",
              "      <td>0</td>\n",
              "      <td>8</td>\n",
              "      <td>0</td>\n",
              "      <td>clemr001</td>\n",
              "      <td>Roger Clemens</td>\n",
              "      <td>morrj001</td>\n",
              "      <td>Jack Morris</td>\n",
              "      <td>smitl001</td>\n",
              "      <td>Lee Smith</td>\n",
              "      <td>evand002</td>\n",
              "      <td>Dwight Evans</td>\n",
              "      <td>morrj001</td>\n",
              "      <td>Jack Morris</td>\n",
              "      <td>clemr001</td>\n",
              "      <td>Roger Clemens</td>\n",
              "      <td>philt001</td>\n",
              "      <td>Tony Phillips</td>\n",
              "      <td>5</td>\n",
              "      <td>trama001</td>\n",
              "      <td>Alan Trammell</td>\n",
              "      <td>6</td>\n",
              "      <td>whitl001</td>\n",
              "      <td>Lou Whitaker</td>\n",
              "      <td>4</td>\n",
              "      <td>fielc001</td>\n",
              "      <td>Cecil Fielder</td>\n",
              "      <td>3</td>\n",
              "      <td>mosel001</td>\n",
              "      <td>Lloyd Moseby</td>\n",
              "      <td>8</td>\n",
              "      <td>nokem001</td>\n",
              "      <td>Matt Nokes</td>\n",
              "      <td>2</td>\n",
              "      <td>wardg001</td>\n",
              "      <td>Gary Ward</td>\n",
              "      <td>7</td>\n",
              "      <td>lemoc001</td>\n",
              "      <td>Chet Lemon</td>\n",
              "      <td>9</td>\n",
              "      <td>bergd001</td>\n",
              "      <td>Dave Bergman</td>\n",
              "      <td>10</td>\n",
              "      <td>boggw001</td>\n",
              "      <td>Wade Boggs</td>\n",
              "      <td>5</td>\n",
              "      <td>barrm001</td>\n",
              "      <td>Marty Barrett</td>\n",
              "      <td>4</td>\n",
              "      <td>greem001</td>\n",
              "      <td>Mike Greenwell</td>\n",
              "      <td>7</td>\n",
              "      <td>burke001</td>\n",
              "      <td>Ellis Burks</td>\n",
              "      <td>8</td>\n",
              "      <td>evand002</td>\n",
              "      <td>Dwight Evans</td>\n",
              "      <td>10</td>\n",
              "      <td>robib001</td>\n",
              "      <td>Billy Jo Robidoux</td>\n",
              "      <td>3</td>\n",
              "      <td>penat001</td>\n",
              "      <td>Tony Pena</td>\n",
              "      <td>2</td>\n",
              "      <td>reedj003</td>\n",
              "      <td>Jody Reed</td>\n",
              "      <td>6</td>\n",
              "      <td>romik001</td>\n",
              "      <td>Kevin Romine</td>\n",
              "      <td>9</td>\n",
              "      <td>Y</td>\n",
              "    </tr>\n",
              "    <tr>\n",
              "      <th>1</th>\n",
              "      <td>1990</td>\n",
              "      <td>4/9/1990</td>\n",
              "      <td>0</td>\n",
              "      <td>Mon</td>\n",
              "      <td>SEA</td>\n",
              "      <td>AL</td>\n",
              "      <td>1</td>\n",
              "      <td>CAL</td>\n",
              "      <td>AL</td>\n",
              "      <td>1</td>\n",
              "      <td>7</td>\n",
              "      <td>4</td>\n",
              "      <td>N</td>\n",
              "      <td>NaN</td>\n",
              "      <td>ANA01</td>\n",
              "      <td>38406.0</td>\n",
              "      <td>15</td>\n",
              "      <td>1</td>\n",
              "      <td>5</td>\n",
              "      <td>1</td>\n",
              "      <td>holmb001</td>\n",
              "      <td>Brian Holman</td>\n",
              "      <td>blylb001</td>\n",
              "      <td>Bert Blyleven</td>\n",
              "      <td>schom001</td>\n",
              "      <td>Mike Schooler</td>\n",
              "      <td>grifk002</td>\n",
              "      <td>Ken Griffey</td>\n",
              "      <td>holmb001</td>\n",
              "      <td>Brian Holman</td>\n",
              "      <td>blylb001</td>\n",
              "      <td>Bert Blyleven</td>\n",
              "      <td>reynh001</td>\n",
              "      <td>Harold Reynolds</td>\n",
              "      <td>4</td>\n",
              "      <td>grifk002</td>\n",
              "      <td>Ken Griffey</td>\n",
              "      <td>8</td>\n",
              "      <td>davia002</td>\n",
              "      <td>Alvin Davis</td>\n",
              "      <td>10</td>\n",
              "      <td>leonj001</td>\n",
              "      <td>Jeffrey Leonard</td>\n",
              "      <td>9</td>\n",
              "      <td>obrip001</td>\n",
              "      <td>Pete O'Brien</td>\n",
              "      <td>3</td>\n",
              "      <td>brilg001</td>\n",
              "      <td>Greg Briley</td>\n",
              "      <td>7</td>\n",
              "      <td>marte001</td>\n",
              "      <td>Edgar Martinez</td>\n",
              "      <td>5</td>\n",
              "      <td>valld001</td>\n",
              "      <td>Dave Valle</td>\n",
              "      <td>2</td>\n",
              "      <td>gileb001</td>\n",
              "      <td>Brian Giles</td>\n",
              "      <td>6</td>\n",
              "      <td>whitd001</td>\n",
              "      <td>Devon White</td>\n",
              "      <td>8</td>\n",
              "      <td>ray-j001</td>\n",
              "      <td>Johnny Ray</td>\n",
              "      <td>4</td>\n",
              "      <td>joynw001</td>\n",
              "      <td>Wally Joyner</td>\n",
              "      <td>3</td>\n",
              "      <td>davic001</td>\n",
              "      <td>Chili Davis</td>\n",
              "      <td>10</td>\n",
              "      <td>bichd001</td>\n",
              "      <td>Dante Bichette</td>\n",
              "      <td>7</td>\n",
              "      <td>washc001</td>\n",
              "      <td>Claudell Washington</td>\n",
              "      <td>9</td>\n",
              "      <td>parrl001</td>\n",
              "      <td>Lance Parrish</td>\n",
              "      <td>2</td>\n",
              "      <td>schur001</td>\n",
              "      <td>Rick Schu</td>\n",
              "      <td>5</td>\n",
              "      <td>mclem001</td>\n",
              "      <td>Mark McLemore</td>\n",
              "      <td>6</td>\n",
              "      <td>Y</td>\n",
              "    </tr>\n",
              "    <tr>\n",
              "      <th>2</th>\n",
              "      <td>1990</td>\n",
              "      <td>4/9/1990</td>\n",
              "      <td>0</td>\n",
              "      <td>Mon</td>\n",
              "      <td>MIL</td>\n",
              "      <td>AL</td>\n",
              "      <td>1</td>\n",
              "      <td>CHA</td>\n",
              "      <td>AL</td>\n",
              "      <td>1</td>\n",
              "      <td>1</td>\n",
              "      <td>2</td>\n",
              "      <td>D</td>\n",
              "      <td>NaN</td>\n",
              "      <td>CHI10</td>\n",
              "      <td>40008.0</td>\n",
              "      <td>4</td>\n",
              "      <td>0</td>\n",
              "      <td>6</td>\n",
              "      <td>0</td>\n",
              "      <td>joneb002</td>\n",
              "      <td>Barry Jones</td>\n",
              "      <td>fosst001</td>\n",
              "      <td>Tony Fossas</td>\n",
              "      <td>thigb001</td>\n",
              "      <td>Bobby Thigpen</td>\n",
              "      <td>flets001</td>\n",
              "      <td>Scott Fletcher</td>\n",
              "      <td>bosic001</td>\n",
              "      <td>Chris Bosio</td>\n",
              "      <td>perem001</td>\n",
              "      <td>Melido Perez</td>\n",
              "      <td>shefg001</td>\n",
              "      <td>Gary Sheffield</td>\n",
              "      <td>5</td>\n",
              "      <td>surhb001</td>\n",
              "      <td>B.J. Surhoff</td>\n",
              "      <td>2</td>\n",
              "      <td>younr001</td>\n",
              "      <td>Robin Yount</td>\n",
              "      <td>8</td>\n",
              "      <td>parkd001</td>\n",
              "      <td>Dave Parker</td>\n",
              "      <td>10</td>\n",
              "      <td>deerr001</td>\n",
              "      <td>Rob Deer</td>\n",
              "      <td>9</td>\n",
              "      <td>brocg001</td>\n",
              "      <td>Greg Brock</td>\n",
              "      <td>3</td>\n",
              "      <td>bragg001</td>\n",
              "      <td>Glenn Braggs</td>\n",
              "      <td>7</td>\n",
              "      <td>diaze001</td>\n",
              "      <td>Edgar Diaz</td>\n",
              "      <td>6</td>\n",
              "      <td>bateb001</td>\n",
              "      <td>Billy Bates</td>\n",
              "      <td>4</td>\n",
              "      <td>johnl001</td>\n",
              "      <td>Lance Johnson</td>\n",
              "      <td>8</td>\n",
              "      <td>flets001</td>\n",
              "      <td>Scott Fletcher</td>\n",
              "      <td>4</td>\n",
              "      <td>caldi001</td>\n",
              "      <td>Ivan Calderon</td>\n",
              "      <td>7</td>\n",
              "      <td>walkg001</td>\n",
              "      <td>Greg Walker</td>\n",
              "      <td>10</td>\n",
              "      <td>fiskc001</td>\n",
              "      <td>Carlton Fisk</td>\n",
              "      <td>2</td>\n",
              "      <td>martc002</td>\n",
              "      <td>Carlos Martinez</td>\n",
              "      <td>3</td>\n",
              "      <td>ventr001</td>\n",
              "      <td>Robin Ventura</td>\n",
              "      <td>5</td>\n",
              "      <td>sosas001</td>\n",
              "      <td>Sammy Sosa</td>\n",
              "      <td>9</td>\n",
              "      <td>guilo001</td>\n",
              "      <td>Ozzie Guillen</td>\n",
              "      <td>6</td>\n",
              "      <td>Y</td>\n",
              "    </tr>\n",
              "    <tr>\n",
              "      <th>3</th>\n",
              "      <td>1990</td>\n",
              "      <td>4/9/1990</td>\n",
              "      <td>0</td>\n",
              "      <td>Mon</td>\n",
              "      <td>BAL</td>\n",
              "      <td>AL</td>\n",
              "      <td>1</td>\n",
              "      <td>KCA</td>\n",
              "      <td>AL</td>\n",
              "      <td>1</td>\n",
              "      <td>7</td>\n",
              "      <td>6</td>\n",
              "      <td>D</td>\n",
              "      <td>NaN</td>\n",
              "      <td>KAN06</td>\n",
              "      <td>37671.0</td>\n",
              "      <td>14</td>\n",
              "      <td>2</td>\n",
              "      <td>10</td>\n",
              "      <td>2</td>\n",
              "      <td>aldrj001</td>\n",
              "      <td>Jay Aldrich</td>\n",
              "      <td>montj002</td>\n",
              "      <td>Jeff Montgomery</td>\n",
              "      <td>olsog001</td>\n",
              "      <td>Gregg Olson</td>\n",
              "      <td>NaN</td>\n",
              "      <td>(none)</td>\n",
              "      <td>milab001</td>\n",
              "      <td>Bob Milacki</td>\n",
              "      <td>sabeb001</td>\n",
              "      <td>Bret Saberhagen</td>\n",
              "      <td>bradp001</td>\n",
              "      <td>Phil Bradley</td>\n",
              "      <td>7</td>\n",
              "      <td>orsuj001</td>\n",
              "      <td>Joe Orsulak</td>\n",
              "      <td>9</td>\n",
              "      <td>ripkc001</td>\n",
              "      <td>Cal Ripken</td>\n",
              "      <td>6</td>\n",
              "      <td>tettm001</td>\n",
              "      <td>Mickey Tettleton</td>\n",
              "      <td>2</td>\n",
              "      <td>millr002</td>\n",
              "      <td>Randy Milligan</td>\n",
              "      <td>3</td>\n",
              "      <td>horns001</td>\n",
              "      <td>Sam Horn</td>\n",
              "      <td>10</td>\n",
              "      <td>wortc001</td>\n",
              "      <td>Craig Worthington</td>\n",
              "      <td>5</td>\n",
              "      <td>devem001</td>\n",
              "      <td>Mike Devereaux</td>\n",
              "      <td>8</td>\n",
              "      <td>ripkb001</td>\n",
              "      <td>Billy Ripken</td>\n",
              "      <td>4</td>\n",
              "      <td>perrg001</td>\n",
              "      <td>Gerald Perry</td>\n",
              "      <td>10</td>\n",
              "      <td>seitk001</td>\n",
              "      <td>Kevin Seitzer</td>\n",
              "      <td>5</td>\n",
              "      <td>bretg001</td>\n",
              "      <td>George Brett</td>\n",
              "      <td>3</td>\n",
              "      <td>jackb001</td>\n",
              "      <td>Bo Jackson</td>\n",
              "      <td>7</td>\n",
              "      <td>tartd001</td>\n",
              "      <td>Danny Tartabull</td>\n",
              "      <td>9</td>\n",
              "      <td>eisej001</td>\n",
              "      <td>Jim Eisenreich</td>\n",
              "      <td>8</td>\n",
              "      <td>stilk001</td>\n",
              "      <td>Kurt Stillwell</td>\n",
              "      <td>6</td>\n",
              "      <td>whitf001</td>\n",
              "      <td>Frank White</td>\n",
              "      <td>4</td>\n",
              "      <td>boonb001</td>\n",
              "      <td>Bob Boone</td>\n",
              "      <td>2</td>\n",
              "      <td>Y</td>\n",
              "    </tr>\n",
              "    <tr>\n",
              "      <th>4</th>\n",
              "      <td>1990</td>\n",
              "      <td>4/9/1990</td>\n",
              "      <td>0</td>\n",
              "      <td>Mon</td>\n",
              "      <td>MIN</td>\n",
              "      <td>AL</td>\n",
              "      <td>1</td>\n",
              "      <td>OAK</td>\n",
              "      <td>AL</td>\n",
              "      <td>1</td>\n",
              "      <td>3</td>\n",
              "      <td>8</td>\n",
              "      <td>N</td>\n",
              "      <td>NaN</td>\n",
              "      <td>OAK01</td>\n",
              "      <td>48219.0</td>\n",
              "      <td>10</td>\n",
              "      <td>1</td>\n",
              "      <td>11</td>\n",
              "      <td>2</td>\n",
              "      <td>stewd001</td>\n",
              "      <td>Dave Stewart</td>\n",
              "      <td>andea001</td>\n",
              "      <td>Allan Anderson</td>\n",
              "      <td>honer001</td>\n",
              "      <td>Rick Honeycutt</td>\n",
              "      <td>hendd001</td>\n",
              "      <td>Dave Henderson</td>\n",
              "      <td>andea001</td>\n",
              "      <td>Allan Anderson</td>\n",
              "      <td>stewd001</td>\n",
              "      <td>Dave Stewart</td>\n",
              "      <td>gladd001</td>\n",
              "      <td>Dan Gladden</td>\n",
              "      <td>7</td>\n",
              "      <td>bushr001</td>\n",
              "      <td>Randy Bush</td>\n",
              "      <td>9</td>\n",
              "      <td>puckk001</td>\n",
              "      <td>Kirby Puckett</td>\n",
              "      <td>8</td>\n",
              "      <td>hrbek001</td>\n",
              "      <td>Kent Hrbek</td>\n",
              "      <td>3</td>\n",
              "      <td>gaetg001</td>\n",
              "      <td>Gary Gaetti</td>\n",
              "      <td>5</td>\n",
              "      <td>harpb001</td>\n",
              "      <td>Brian Harper</td>\n",
              "      <td>2</td>\n",
              "      <td>larkg001</td>\n",
              "      <td>Gene Larkin</td>\n",
              "      <td>10</td>\n",
              "      <td>gagng001</td>\n",
              "      <td>Greg Gagne</td>\n",
              "      <td>6</td>\n",
              "      <td>newma001</td>\n",
              "      <td>Al Newman</td>\n",
              "      <td>4</td>\n",
              "      <td>hendr001</td>\n",
              "      <td>Rickey Henderson</td>\n",
              "      <td>7</td>\n",
              "      <td>lansc001</td>\n",
              "      <td>Carney Lansford</td>\n",
              "      <td>5</td>\n",
              "      <td>cansj001</td>\n",
              "      <td>Jose Canseco</td>\n",
              "      <td>9</td>\n",
              "      <td>mcgwm001</td>\n",
              "      <td>Mark McGwire</td>\n",
              "      <td>3</td>\n",
              "      <td>hendd001</td>\n",
              "      <td>Dave Henderson</td>\n",
              "      <td>8</td>\n",
              "      <td>steit001</td>\n",
              "      <td>Terry Steinbach</td>\n",
              "      <td>2</td>\n",
              "      <td>javis001</td>\n",
              "      <td>Stan Javier</td>\n",
              "      <td>10</td>\n",
              "      <td>gallm001</td>\n",
              "      <td>Mike Gallego</td>\n",
              "      <td>4</td>\n",
              "      <td>weisw001</td>\n",
              "      <td>Walt Weiss</td>\n",
              "      <td>6</td>\n",
              "      <td>Y</td>\n",
              "    </tr>\n",
              "  </tbody>\n",
              "</table>\n",
              "</div>"
            ],
            "text/plain": [
              "   season      date  number_of_game day_of_week visiting_team  \\\n",
              "0    1990  4/9/1990               0         Mon           DET   \n",
              "1    1990  4/9/1990               0         Mon           SEA   \n",
              "2    1990  4/9/1990               0         Mon           MIL   \n",
              "3    1990  4/9/1990               0         Mon           BAL   \n",
              "4    1990  4/9/1990               0         Mon           MIN   \n",
              "\n",
              "  visiting_team_league  visiting_team_game_number home_team home_team_league  \\\n",
              "0                   AL                          1       BOS               AL   \n",
              "1                   AL                          1       CAL               AL   \n",
              "2                   AL                          1       CHA               AL   \n",
              "3                   AL                          1       KCA               AL   \n",
              "4                   AL                          1       OAK               AL   \n",
              "\n",
              "   home_team_game_number  visiting_team_runs  home_team_runs game_time  \\\n",
              "0                      1                   2               5         D   \n",
              "1                      1                   7               4         N   \n",
              "2                      1                   1               2         D   \n",
              "3                      1                   7               6         D   \n",
              "4                      1                   3               8         N   \n",
              "\n",
              "  completion_info park_id  attendance  visiting_team_hits  \\\n",
              "0             NaN   BOS07     35199.0                   5   \n",
              "1             NaN   ANA01     38406.0                  15   \n",
              "2             NaN   CHI10     40008.0                   4   \n",
              "3             NaN   KAN06     37671.0                  14   \n",
              "4             NaN   OAK01     48219.0                  10   \n",
              "\n",
              "   visiting_team_home_runs  home_team_hits  home_team_home_runs  \\\n",
              "0                        0               8                    0   \n",
              "1                        1               5                    1   \n",
              "2                        0               6                    0   \n",
              "3                        2              10                    2   \n",
              "4                        1              11                    2   \n",
              "\n",
              "  winning_pitcher_id winning_pitcher_name losing_pitcher_id  \\\n",
              "0           clemr001        Roger Clemens          morrj001   \n",
              "1           holmb001         Brian Holman          blylb001   \n",
              "2           joneb002          Barry Jones          fosst001   \n",
              "3           aldrj001          Jay Aldrich          montj002   \n",
              "4           stewd001         Dave Stewart          andea001   \n",
              "\n",
              "  losing_pitcher_name saving_pitcher_id saving_pitcher_name  \\\n",
              "0         Jack Morris          smitl001           Lee Smith   \n",
              "1       Bert Blyleven          schom001       Mike Schooler   \n",
              "2         Tony Fossas          thigb001       Bobby Thigpen   \n",
              "3     Jeff Montgomery          olsog001         Gregg Olson   \n",
              "4      Allan Anderson          honer001      Rick Honeycutt   \n",
              "\n",
              "  game_winning_rbi_batter_id game_winning_rbi_batter_name visiting_pitcher_id  \\\n",
              "0                   evand002                 Dwight Evans            morrj001   \n",
              "1                   grifk002                  Ken Griffey            holmb001   \n",
              "2                   flets001               Scott Fletcher            bosic001   \n",
              "3                        NaN                       (none)            milab001   \n",
              "4                   hendd001               Dave Henderson            andea001   \n",
              "\n",
              "  visiting_pitcher_name home_pitcher_id home_pitcher_name visiting_player1_id  \\\n",
              "0           Jack Morris        clemr001     Roger Clemens            philt001   \n",
              "1          Brian Holman        blylb001     Bert Blyleven            reynh001   \n",
              "2           Chris Bosio        perem001      Melido Perez            shefg001   \n",
              "3           Bob Milacki        sabeb001   Bret Saberhagen            bradp001   \n",
              "4        Allan Anderson        stewd001      Dave Stewart            gladd001   \n",
              "\n",
              "  visiting_player1_name  visiting_player1_pos visiting_player2_id  \\\n",
              "0         Tony Phillips                     5            trama001   \n",
              "1       Harold Reynolds                     4            grifk002   \n",
              "2        Gary Sheffield                     5            surhb001   \n",
              "3          Phil Bradley                     7            orsuj001   \n",
              "4           Dan Gladden                     7            bushr001   \n",
              "\n",
              "  visiting_player2_name  visiting_player2_pos visiting_player3_id  \\\n",
              "0         Alan Trammell                     6            whitl001   \n",
              "1           Ken Griffey                     8            davia002   \n",
              "2          B.J. Surhoff                     2            younr001   \n",
              "3           Joe Orsulak                     9            ripkc001   \n",
              "4            Randy Bush                     9            puckk001   \n",
              "\n",
              "  visiting_player3_name  visiting_player3_pos visiting_player4_id  \\\n",
              "0          Lou Whitaker                     4            fielc001   \n",
              "1           Alvin Davis                    10            leonj001   \n",
              "2           Robin Yount                     8            parkd001   \n",
              "3            Cal Ripken                     6            tettm001   \n",
              "4         Kirby Puckett                     8            hrbek001   \n",
              "\n",
              "  visiting_player4_name  visiting_player4_pos visiting_player5_id  \\\n",
              "0         Cecil Fielder                     3            mosel001   \n",
              "1       Jeffrey Leonard                     9            obrip001   \n",
              "2           Dave Parker                    10            deerr001   \n",
              "3      Mickey Tettleton                     2            millr002   \n",
              "4            Kent Hrbek                     3            gaetg001   \n",
              "\n",
              "  visiting_player5_name  visiting_player5_pos visiting_player6_id  \\\n",
              "0          Lloyd Moseby                     8            nokem001   \n",
              "1          Pete O'Brien                     3            brilg001   \n",
              "2              Rob Deer                     9            brocg001   \n",
              "3        Randy Milligan                     3            horns001   \n",
              "4           Gary Gaetti                     5            harpb001   \n",
              "\n",
              "  visiting_player6_name  visiting_player6_pos visiting_player7_id  \\\n",
              "0            Matt Nokes                     2            wardg001   \n",
              "1           Greg Briley                     7            marte001   \n",
              "2            Greg Brock                     3            bragg001   \n",
              "3              Sam Horn                    10            wortc001   \n",
              "4          Brian Harper                     2            larkg001   \n",
              "\n",
              "  visiting_player7_name  visiting_player7_pos visiting_player8_id  \\\n",
              "0             Gary Ward                     7            lemoc001   \n",
              "1        Edgar Martinez                     5            valld001   \n",
              "2          Glenn Braggs                     7            diaze001   \n",
              "3     Craig Worthington                     5            devem001   \n",
              "4           Gene Larkin                    10            gagng001   \n",
              "\n",
              "  visiting_player8_name  visiting_player8_pos visiting_player9_id  \\\n",
              "0            Chet Lemon                     9            bergd001   \n",
              "1            Dave Valle                     2            gileb001   \n",
              "2            Edgar Diaz                     6            bateb001   \n",
              "3        Mike Devereaux                     8            ripkb001   \n",
              "4            Greg Gagne                     6            newma001   \n",
              "\n",
              "  visiting_player9_name  visiting_player9_pos home_player1_id  \\\n",
              "0          Dave Bergman                    10        boggw001   \n",
              "1           Brian Giles                     6        whitd001   \n",
              "2           Billy Bates                     4        johnl001   \n",
              "3          Billy Ripken                     4        perrg001   \n",
              "4             Al Newman                     4        hendr001   \n",
              "\n",
              "  home_player1_name  home_player1_pos home_player2_id home_player2_name  \\\n",
              "0        Wade Boggs                 5        barrm001     Marty Barrett   \n",
              "1       Devon White                 8        ray-j001        Johnny Ray   \n",
              "2     Lance Johnson                 8        flets001    Scott Fletcher   \n",
              "3      Gerald Perry                10        seitk001     Kevin Seitzer   \n",
              "4  Rickey Henderson                 7        lansc001   Carney Lansford   \n",
              "\n",
              "   home_player2_pos home_player3_id home_player3_name  home_player3_pos  \\\n",
              "0                 4        greem001    Mike Greenwell                 7   \n",
              "1                 4        joynw001      Wally Joyner                 3   \n",
              "2                 4        caldi001     Ivan Calderon                 7   \n",
              "3                 5        bretg001      George Brett                 3   \n",
              "4                 5        cansj001      Jose Canseco                 9   \n",
              "\n",
              "  home_player4_id home_player4_name  home_player4_pos home_player5_id  \\\n",
              "0        burke001       Ellis Burks                 8        evand002   \n",
              "1        davic001       Chili Davis                10        bichd001   \n",
              "2        walkg001       Greg Walker                10        fiskc001   \n",
              "3        jackb001        Bo Jackson                 7        tartd001   \n",
              "4        mcgwm001      Mark McGwire                 3        hendd001   \n",
              "\n",
              "  home_player5_name  home_player5_pos home_player6_id    home_player6_name  \\\n",
              "0      Dwight Evans                10        robib001    Billy Jo Robidoux   \n",
              "1    Dante Bichette                 7        washc001  Claudell Washington   \n",
              "2      Carlton Fisk                 2        martc002      Carlos Martinez   \n",
              "3   Danny Tartabull                 9        eisej001       Jim Eisenreich   \n",
              "4    Dave Henderson                 8        steit001      Terry Steinbach   \n",
              "\n",
              "   home_player6_pos home_player7_id home_player7_name  home_player7_pos  \\\n",
              "0                 3        penat001         Tony Pena                 2   \n",
              "1                 9        parrl001     Lance Parrish                 2   \n",
              "2                 3        ventr001     Robin Ventura                 5   \n",
              "3                 8        stilk001    Kurt Stillwell                 6   \n",
              "4                 2        javis001       Stan Javier                10   \n",
              "\n",
              "  home_player8_id home_player8_name  home_player8_pos home_player9_id  \\\n",
              "0        reedj003         Jody Reed                 6        romik001   \n",
              "1        schur001         Rick Schu                 5        mclem001   \n",
              "2        sosas001        Sammy Sosa                 9        guilo001   \n",
              "3        whitf001       Frank White                 4        boonb001   \n",
              "4        gallm001      Mike Gallego                 4        weisw001   \n",
              "\n",
              "  home_player9_name  home_player9_pos acquisition_info  \n",
              "0      Kevin Romine                 9                Y  \n",
              "1     Mark McLemore                 6                Y  \n",
              "2     Ozzie Guillen                 6                Y  \n",
              "3         Bob Boone                 2                Y  \n",
              "4        Walt Weiss                 6                Y  "
            ]
          },
          "metadata": {
            "tags": []
          },
          "execution_count": 27
        }
      ]
    },
    {
      "metadata": {
        "id": "6r91ksWbqIib",
        "colab_type": "code",
        "colab": {
          "base_uri": "https://localhost:8080/",
          "height": 34
        },
        "outputId": "dea1eac3-bd42-4e2f-d532-117c8bb665e8"
      },
      "cell_type": "code",
      "source": [
        "print(\"original dimensions\", data.shape)"
      ],
      "execution_count": 28,
      "outputs": [
        {
          "output_type": "stream",
          "text": [
            "original dimensions (65322, 87)\n"
          ],
          "name": "stdout"
        }
      ]
    },
    {
      "metadata": {
        "id": "iGlx46v5qIid",
        "colab_type": "text"
      },
      "cell_type": "markdown",
      "source": [
        "<font color=blue>__attendance distribution__</font>"
      ]
    },
    {
      "metadata": {
        "id": "hQaQt0cDqIie",
        "colab_type": "code",
        "colab": {
          "base_uri": "https://localhost:8080/",
          "height": 526
        },
        "outputId": "7d586e3f-ecd0-4637-bc25-1164c09c5775"
      },
      "cell_type": "code",
      "source": [
        "data['attendance'].hist(grid = False, color = 'r', bins = 'auto', alpha=0.5)\n",
        "plt.xlabel('Attendance')\n",
        "plt.ylabel('Number of games')\n",
        "plt.title('Attendance histogram')\n",
        "plt.show()"
      ],
      "execution_count": 29,
      "outputs": [
        {
          "output_type": "display_data",
          "data": {
            "image/png": "[encoded data removed]",
            "text/plain": [
              "<Figure size 842.4x595.44 with 1 Axes>"
            ]
          },
          "metadata": {
            "tags": []
          }
        }
      ]
    },
    {
      "metadata": {
        "id": "tugfqeo7qIih",
        "colab_type": "text"
      },
      "cell_type": "markdown",
      "source": [
        "we can see that we have about 500 games with 0 attendance"
      ]
    },
    {
      "metadata": {
        "id": "HLedOGf9qIii",
        "colab_type": "code",
        "colab": {
          "base_uri": "https://localhost:8080/",
          "height": 224
        },
        "outputId": "c8f92a05-30f2-4e93-ab3b-c709f05d7d18"
      },
      "cell_type": "code",
      "source": [
        "data[data['attendance']==0].head()"
      ],
      "execution_count": 30,
      "outputs": [
        {
          "output_type": "execute_result",
          "data": {
            "text/html": [
              "<div>\n",
              "<style scoped>\n",
              "    .dataframe tbody tr th:only-of-type {\n",
              "        vertical-align: middle;\n",
              "    }\n",
              "\n",
              "    .dataframe tbody tr th {\n",
              "        vertical-align: top;\n",
              "    }\n",
              "\n",
              "    .dataframe thead th {\n",
              "        text-align: right;\n",
              "    }\n",
              "</style>\n",
              "<table border=\"1\" class=\"dataframe\">\n",
              "  <thead>\n",
              "    <tr style=\"text-align: right;\">\n",
              "      <th></th>\n",
              "      <th>season</th>\n",
              "      <th>date</th>\n",
              "      <th>number_of_game</th>\n",
              "      <th>day_of_week</th>\n",
              "      <th>visiting_team</th>\n",
              "      <th>visiting_team_league</th>\n",
              "      <th>visiting_team_game_number</th>\n",
              "      <th>home_team</th>\n",
              "      <th>home_team_league</th>\n",
              "      <th>home_team_game_number</th>\n",
              "      <th>visiting_team_runs</th>\n",
              "      <th>home_team_runs</th>\n",
              "      <th>game_time</th>\n",
              "      <th>completion_info</th>\n",
              "      <th>park_id</th>\n",
              "      <th>attendance</th>\n",
              "      <th>visiting_team_hits</th>\n",
              "      <th>visiting_team_home_runs</th>\n",
              "      <th>home_team_hits</th>\n",
              "      <th>home_team_home_runs</th>\n",
              "      <th>winning_pitcher_id</th>\n",
              "      <th>winning_pitcher_name</th>\n",
              "      <th>losing_pitcher_id</th>\n",
              "      <th>losing_pitcher_name</th>\n",
              "      <th>saving_pitcher_id</th>\n",
              "      <th>saving_pitcher_name</th>\n",
              "      <th>game_winning_rbi_batter_id</th>\n",
              "      <th>game_winning_rbi_batter_name</th>\n",
              "      <th>visiting_pitcher_id</th>\n",
              "      <th>visiting_pitcher_name</th>\n",
              "      <th>home_pitcher_id</th>\n",
              "      <th>home_pitcher_name</th>\n",
              "      <th>visiting_player1_id</th>\n",
              "      <th>visiting_player1_name</th>\n",
              "      <th>visiting_player1_pos</th>\n",
              "      <th>visiting_player2_id</th>\n",
              "      <th>visiting_player2_name</th>\n",
              "      <th>visiting_player2_pos</th>\n",
              "      <th>visiting_player3_id</th>\n",
              "      <th>visiting_player3_name</th>\n",
              "      <th>visiting_player3_pos</th>\n",
              "      <th>visiting_player4_id</th>\n",
              "      <th>visiting_player4_name</th>\n",
              "      <th>visiting_player4_pos</th>\n",
              "      <th>visiting_player5_id</th>\n",
              "      <th>visiting_player5_name</th>\n",
              "      <th>visiting_player5_pos</th>\n",
              "      <th>visiting_player6_id</th>\n",
              "      <th>visiting_player6_name</th>\n",
              "      <th>visiting_player6_pos</th>\n",
              "      <th>visiting_player7_id</th>\n",
              "      <th>visiting_player7_name</th>\n",
              "      <th>visiting_player7_pos</th>\n",
              "      <th>visiting_player8_id</th>\n",
              "      <th>visiting_player8_name</th>\n",
              "      <th>visiting_player8_pos</th>\n",
              "      <th>visiting_player9_id</th>\n",
              "      <th>visiting_player9_name</th>\n",
              "      <th>visiting_player9_pos</th>\n",
              "      <th>home_player1_id</th>\n",
              "      <th>home_player1_name</th>\n",
              "      <th>home_player1_pos</th>\n",
              "      <th>home_player2_id</th>\n",
              "      <th>home_player2_name</th>\n",
              "      <th>home_player2_pos</th>\n",
              "      <th>home_player3_id</th>\n",
              "      <th>home_player3_name</th>\n",
              "      <th>home_player3_pos</th>\n",
              "      <th>home_player4_id</th>\n",
              "      <th>home_player4_name</th>\n",
              "      <th>home_player4_pos</th>\n",
              "      <th>home_player5_id</th>\n",
              "      <th>home_player5_name</th>\n",
              "      <th>home_player5_pos</th>\n",
              "      <th>home_player6_id</th>\n",
              "      <th>home_player6_name</th>\n",
              "      <th>home_player6_pos</th>\n",
              "      <th>home_player7_id</th>\n",
              "      <th>home_player7_name</th>\n",
              "      <th>home_player7_pos</th>\n",
              "      <th>home_player8_id</th>\n",
              "      <th>home_player8_name</th>\n",
              "      <th>home_player8_pos</th>\n",
              "      <th>home_player9_id</th>\n",
              "      <th>home_player9_name</th>\n",
              "      <th>home_player9_pos</th>\n",
              "      <th>acquisition_info</th>\n",
              "    </tr>\n",
              "  </thead>\n",
              "  <tbody>\n",
              "    <tr>\n",
              "      <th>24</th>\n",
              "      <td>1990</td>\n",
              "      <td>4/11/1990</td>\n",
              "      <td>1</td>\n",
              "      <td>Wed</td>\n",
              "      <td>SFN</td>\n",
              "      <td>NL</td>\n",
              "      <td>1</td>\n",
              "      <td>ATL</td>\n",
              "      <td>NL</td>\n",
              "      <td>1</td>\n",
              "      <td>8</td>\n",
              "      <td>0</td>\n",
              "      <td>N</td>\n",
              "      <td>NaN</td>\n",
              "      <td>ATL01</td>\n",
              "      <td>0.0</td>\n",
              "      <td>13</td>\n",
              "      <td>2</td>\n",
              "      <td>3</td>\n",
              "      <td>0</td>\n",
              "      <td>reusr001</td>\n",
              "      <td>Rick Reuschel</td>\n",
              "      <td>glavt001</td>\n",
              "      <td>Tom Glavine</td>\n",
              "      <td>NaN</td>\n",
              "      <td>(none)</td>\n",
              "      <td>clarw001</td>\n",
              "      <td>Will Clark</td>\n",
              "      <td>reusr001</td>\n",
              "      <td>Rick Reuschel</td>\n",
              "      <td>glavt001</td>\n",
              "      <td>Tom Glavine</td>\n",
              "      <td>butlb001</td>\n",
              "      <td>Brett Butler</td>\n",
              "      <td>8</td>\n",
              "      <td>bassk001</td>\n",
              "      <td>Kevin Bass</td>\n",
              "      <td>9</td>\n",
              "      <td>clarw001</td>\n",
              "      <td>Will Clark</td>\n",
              "      <td>3</td>\n",
              "      <td>mitck001</td>\n",
              "      <td>Kevin Mitchell</td>\n",
              "      <td>7</td>\n",
              "      <td>willm003</td>\n",
              "      <td>Matt Williams</td>\n",
              "      <td>5</td>\n",
              "      <td>thomr003</td>\n",
              "      <td>Robby Thompson</td>\n",
              "      <td>4</td>\n",
              "      <td>cartg001</td>\n",
              "      <td>Gary Carter</td>\n",
              "      <td>2</td>\n",
              "      <td>uribj001</td>\n",
              "      <td>Jose Uribe</td>\n",
              "      <td>6</td>\n",
              "      <td>reusr001</td>\n",
              "      <td>Rick Reuschel</td>\n",
              "      <td>1</td>\n",
              "      <td>mcdoo001</td>\n",
              "      <td>Oddibe McDowell</td>\n",
              "      <td>8</td>\n",
              "      <td>treaj001</td>\n",
              "      <td>Jeff Treadway</td>\n",
              "      <td>4</td>\n",
              "      <td>gregt001</td>\n",
              "      <td>Tommy Gregg</td>\n",
              "      <td>7</td>\n",
              "      <td>esasn001</td>\n",
              "      <td>Nick Esasky</td>\n",
              "      <td>3</td>\n",
              "      <td>murpd001</td>\n",
              "      <td>Dale Murphy</td>\n",
              "      <td>9</td>\n",
              "      <td>white002</td>\n",
              "      <td>Ernie Whitt</td>\n",
              "      <td>2</td>\n",
              "      <td>presj001</td>\n",
              "      <td>Jim Presley</td>\n",
              "      <td>5</td>\n",
              "      <td>blauj001</td>\n",
              "      <td>Jeff Blauser</td>\n",
              "      <td>6</td>\n",
              "      <td>glavt001</td>\n",
              "      <td>Tom Glavine</td>\n",
              "      <td>1</td>\n",
              "      <td>Y</td>\n",
              "    </tr>\n",
              "    <tr>\n",
              "      <th>35</th>\n",
              "      <td>1990</td>\n",
              "      <td>4/12/1990</td>\n",
              "      <td>1</td>\n",
              "      <td>Thu</td>\n",
              "      <td>PHI</td>\n",
              "      <td>NL</td>\n",
              "      <td>2</td>\n",
              "      <td>CHN</td>\n",
              "      <td>NL</td>\n",
              "      <td>2</td>\n",
              "      <td>5</td>\n",
              "      <td>4</td>\n",
              "      <td>D</td>\n",
              "      <td>NaN</td>\n",
              "      <td>CHI11</td>\n",
              "      <td>0.0</td>\n",
              "      <td>7</td>\n",
              "      <td>0</td>\n",
              "      <td>9</td>\n",
              "      <td>1</td>\n",
              "      <td>mulht001</td>\n",
              "      <td>Terry Mulholland</td>\n",
              "      <td>wilss001</td>\n",
              "      <td>Steve Wilson</td>\n",
              "      <td>mcdor001</td>\n",
              "      <td>Roger McDowell</td>\n",
              "      <td>thond001</td>\n",
              "      <td>Dickie Thon</td>\n",
              "      <td>mulht001</td>\n",
              "      <td>Terry Mulholland</td>\n",
              "      <td>wilss001</td>\n",
              "      <td>Steve Wilson</td>\n",
              "      <td>camps001</td>\n",
              "      <td>Sil Campusano</td>\n",
              "      <td>8</td>\n",
              "      <td>herrt001</td>\n",
              "      <td>Tom Herr</td>\n",
              "      <td>4</td>\n",
              "      <td>martc001</td>\n",
              "      <td>Carmelo Martinez</td>\n",
              "      <td>7</td>\n",
              "      <td>jordr001</td>\n",
              "      <td>Ricky Jordan</td>\n",
              "      <td>3</td>\n",
              "      <td>hayev001</td>\n",
              "      <td>Von Hayes</td>\n",
              "      <td>9</td>\n",
              "      <td>thond001</td>\n",
              "      <td>Dickie Thon</td>\n",
              "      <td>6</td>\n",
              "      <td>lakes001</td>\n",
              "      <td>Steve Lake</td>\n",
              "      <td>2</td>\n",
              "      <td>hayec001</td>\n",
              "      <td>Charlie Hayes</td>\n",
              "      <td>5</td>\n",
              "      <td>mulht001</td>\n",
              "      <td>Terry Mulholland</td>\n",
              "      <td>1</td>\n",
              "      <td>waltj001</td>\n",
              "      <td>Jerome Walton</td>\n",
              "      <td>8</td>\n",
              "      <td>sandr001</td>\n",
              "      <td>Ryne Sandberg</td>\n",
              "      <td>4</td>\n",
              "      <td>mccll001</td>\n",
              "      <td>Lloyd McClendon</td>\n",
              "      <td>7</td>\n",
              "      <td>dawsa001</td>\n",
              "      <td>Andre Dawson</td>\n",
              "      <td>9</td>\n",
              "      <td>gracm001</td>\n",
              "      <td>Mark Grace</td>\n",
              "      <td>3</td>\n",
              "      <td>salal001</td>\n",
              "      <td>Luis Salazar</td>\n",
              "      <td>5</td>\n",
              "      <td>dunss001</td>\n",
              "      <td>Shawon Dunston</td>\n",
              "      <td>6</td>\n",
              "      <td>giraj001</td>\n",
              "      <td>Joe Girardi</td>\n",
              "      <td>2</td>\n",
              "      <td>wilss001</td>\n",
              "      <td>Steve Wilson</td>\n",
              "      <td>1</td>\n",
              "      <td>Y</td>\n",
              "    </tr>\n",
              "    <tr>\n",
              "      <th>293</th>\n",
              "      <td>1990</td>\n",
              "      <td>5/5/1990</td>\n",
              "      <td>1</td>\n",
              "      <td>Sat</td>\n",
              "      <td>SDN</td>\n",
              "      <td>NL</td>\n",
              "      <td>22</td>\n",
              "      <td>CHN</td>\n",
              "      <td>NL</td>\n",
              "      <td>22</td>\n",
              "      <td>2</td>\n",
              "      <td>3</td>\n",
              "      <td>D</td>\n",
              "      <td>NaN</td>\n",
              "      <td>CHI11</td>\n",
              "      <td>0.0</td>\n",
              "      <td>8</td>\n",
              "      <td>0</td>\n",
              "      <td>7</td>\n",
              "      <td>1</td>\n",
              "      <td>maddg002</td>\n",
              "      <td>Greg Maddux</td>\n",
              "      <td>leffc001</td>\n",
              "      <td>Craig Lefferts</td>\n",
              "      <td>NaN</td>\n",
              "      <td>(none)</td>\n",
              "      <td>dunss001</td>\n",
              "      <td>Shawon Dunston</td>\n",
              "      <td>benea001</td>\n",
              "      <td>Andy Benes</td>\n",
              "      <td>maddg002</td>\n",
              "      <td>Greg Maddux</td>\n",
              "      <td>alomr001</td>\n",
              "      <td>Roberto Alomar</td>\n",
              "      <td>4</td>\n",
              "      <td>gwynt001</td>\n",
              "      <td>Tony Gwynn</td>\n",
              "      <td>9</td>\n",
              "      <td>cartj001</td>\n",
              "      <td>Joe Carter</td>\n",
              "      <td>8</td>\n",
              "      <td>clarj001</td>\n",
              "      <td>Jack Clark</td>\n",
              "      <td>3</td>\n",
              "      <td>lynnf001</td>\n",
              "      <td>Fred Lynn</td>\n",
              "      <td>7</td>\n",
              "      <td>santb001</td>\n",
              "      <td>Benito Santiago</td>\n",
              "      <td>2</td>\n",
              "      <td>robeb002</td>\n",
              "      <td>Bip Roberts</td>\n",
              "      <td>5</td>\n",
              "      <td>tempg001</td>\n",
              "      <td>Garry Templeton</td>\n",
              "      <td>6</td>\n",
              "      <td>benea001</td>\n",
              "      <td>Andy Benes</td>\n",
              "      <td>1</td>\n",
              "      <td>wynnm001</td>\n",
              "      <td>Marvell Wynne</td>\n",
              "      <td>8</td>\n",
              "      <td>sandr001</td>\n",
              "      <td>Ryne Sandberg</td>\n",
              "      <td>4</td>\n",
              "      <td>smitd003</td>\n",
              "      <td>Dwight Smith</td>\n",
              "      <td>9</td>\n",
              "      <td>gracm001</td>\n",
              "      <td>Mark Grace</td>\n",
              "      <td>3</td>\n",
              "      <td>clard001</td>\n",
              "      <td>Dave Clark</td>\n",
              "      <td>7</td>\n",
              "      <td>salal001</td>\n",
              "      <td>Luis Salazar</td>\n",
              "      <td>5</td>\n",
              "      <td>dunss001</td>\n",
              "      <td>Shawon Dunston</td>\n",
              "      <td>6</td>\n",
              "      <td>giraj001</td>\n",
              "      <td>Joe Girardi</td>\n",
              "      <td>2</td>\n",
              "      <td>maddg002</td>\n",
              "      <td>Greg Maddux</td>\n",
              "      <td>1</td>\n",
              "      <td>Y</td>\n",
              "    </tr>\n",
              "    <tr>\n",
              "      <th>300</th>\n",
              "      <td>1990</td>\n",
              "      <td>5/6/1990</td>\n",
              "      <td>1</td>\n",
              "      <td>Sun</td>\n",
              "      <td>TEX</td>\n",
              "      <td>AL</td>\n",
              "      <td>24</td>\n",
              "      <td>CLE</td>\n",
              "      <td>AL</td>\n",
              "      <td>23</td>\n",
              "      <td>5</td>\n",
              "      <td>9</td>\n",
              "      <td>D</td>\n",
              "      <td>NaN</td>\n",
              "      <td>CLE07</td>\n",
              "      <td>0.0</td>\n",
              "      <td>8</td>\n",
              "      <td>3</td>\n",
              "      <td>12</td>\n",
              "      <td>4</td>\n",
              "      <td>candt001</td>\n",
              "      <td>Tom Candiotti</td>\n",
              "      <td>bohab001</td>\n",
              "      <td>Brian Bohanon</td>\n",
              "      <td>orosj001</td>\n",
              "      <td>Jesse Orosco</td>\n",
              "      <td>baerc001</td>\n",
              "      <td>Carlos Baerga</td>\n",
              "      <td>bohab001</td>\n",
              "      <td>Brian Bohanon</td>\n",
              "      <td>candt001</td>\n",
              "      <td>Tom Candiotti</td>\n",
              "      <td>husoj001</td>\n",
              "      <td>Jeff Huson</td>\n",
              "      <td>6</td>\n",
              "      <td>palmr001</td>\n",
              "      <td>Rafael Palmeiro</td>\n",
              "      <td>3</td>\n",
              "      <td>franj002</td>\n",
              "      <td>Julio Franco</td>\n",
              "      <td>4</td>\n",
              "      <td>sierr001</td>\n",
              "      <td>Ruben Sierra</td>\n",
              "      <td>9</td>\n",
              "      <td>bainh001</td>\n",
              "      <td>Harold Baines</td>\n",
              "      <td>10</td>\n",
              "      <td>incap001</td>\n",
              "      <td>Pete Incaviglia</td>\n",
              "      <td>7</td>\n",
              "      <td>petrg001</td>\n",
              "      <td>Geno Petralli</td>\n",
              "      <td>2</td>\n",
              "      <td>cools001</td>\n",
              "      <td>Scott Coolbaugh</td>\n",
              "      <td>5</td>\n",
              "      <td>pettg001</td>\n",
              "      <td>Gary Pettis</td>\n",
              "      <td>8</td>\n",
              "      <td>websm001</td>\n",
              "      <td>Mitch Webster</td>\n",
              "      <td>8</td>\n",
              "      <td>browj001</td>\n",
              "      <td>Jerry Browne</td>\n",
              "      <td>4</td>\n",
              "      <td>baerc001</td>\n",
              "      <td>Carlos Baerga</td>\n",
              "      <td>5</td>\n",
              "      <td>snydc001</td>\n",
              "      <td>Cory Snyder</td>\n",
              "      <td>9</td>\n",
              "      <td>maldc001</td>\n",
              "      <td>Candy Maldonado</td>\n",
              "      <td>10</td>\n",
              "      <td>jacob001</td>\n",
              "      <td>Brook Jacoby</td>\n",
              "      <td>3</td>\n",
              "      <td>jamec001</td>\n",
              "      <td>Chris James</td>\n",
              "      <td>7</td>\n",
              "      <td>aloms001</td>\n",
              "      <td>Sandy Alomar</td>\n",
              "      <td>2</td>\n",
              "      <td>fermf001</td>\n",
              "      <td>Felix Fermin</td>\n",
              "      <td>6</td>\n",
              "      <td>Y</td>\n",
              "    </tr>\n",
              "    <tr>\n",
              "      <th>309</th>\n",
              "      <td>1990</td>\n",
              "      <td>5/6/1990</td>\n",
              "      <td>1</td>\n",
              "      <td>Sun</td>\n",
              "      <td>HOU</td>\n",
              "      <td>NL</td>\n",
              "      <td>24</td>\n",
              "      <td>NYN</td>\n",
              "      <td>NL</td>\n",
              "      <td>24</td>\n",
              "      <td>4</td>\n",
              "      <td>7</td>\n",
              "      <td>D</td>\n",
              "      <td>NaN</td>\n",
              "      <td>NYC17</td>\n",
              "      <td>0.0</td>\n",
              "      <td>10</td>\n",
              "      <td>1</td>\n",
              "      <td>7</td>\n",
              "      <td>2</td>\n",
              "      <td>franj001</td>\n",
              "      <td>John Franco</td>\n",
              "      <td>smitd001</td>\n",
              "      <td>Dave Smith</td>\n",
              "      <td>NaN</td>\n",
              "      <td>(none)</td>\n",
              "      <td>mcrek001</td>\n",
              "      <td>Kevin McReynolds</td>\n",
              "      <td>deshj001</td>\n",
              "      <td>Jim Deshaies</td>\n",
              "      <td>coned001</td>\n",
              "      <td>David Cone</td>\n",
              "      <td>yelde001</td>\n",
              "      <td>Eric Yelding</td>\n",
              "      <td>6</td>\n",
              "      <td>oberk001</td>\n",
              "      <td>Ken Oberkfell</td>\n",
              "      <td>5</td>\n",
              "      <td>biggc001</td>\n",
              "      <td>Craig Biggio</td>\n",
              "      <td>2</td>\n",
              "      <td>davig001</td>\n",
              "      <td>Glenn Davis</td>\n",
              "      <td>3</td>\n",
              "      <td>stubf001</td>\n",
              "      <td>Franklin Stubbs</td>\n",
              "      <td>9</td>\n",
              "      <td>anthe001</td>\n",
              "      <td>Eric Anthony</td>\n",
              "      <td>7</td>\n",
              "      <td>candc001</td>\n",
              "      <td>Casey Candaele</td>\n",
              "      <td>4</td>\n",
              "      <td>young001</td>\n",
              "      <td>Gerald Young</td>\n",
              "      <td>8</td>\n",
              "      <td>deshj001</td>\n",
              "      <td>Jim Deshaies</td>\n",
              "      <td>1</td>\n",
              "      <td>carrm001</td>\n",
              "      <td>Mark Carreon</td>\n",
              "      <td>8</td>\n",
              "      <td>teuft001</td>\n",
              "      <td>Tim Teufel</td>\n",
              "      <td>4</td>\n",
              "      <td>johnh001</td>\n",
              "      <td>Howard Johnson</td>\n",
              "      <td>5</td>\n",
              "      <td>mcrek001</td>\n",
              "      <td>Kevin McReynolds</td>\n",
              "      <td>7</td>\n",
              "      <td>marsm001</td>\n",
              "      <td>Mike Marshall</td>\n",
              "      <td>3</td>\n",
              "      <td>reedd001</td>\n",
              "      <td>Darren Reed</td>\n",
              "      <td>9</td>\n",
              "      <td>lyonb002</td>\n",
              "      <td>Barry Lyons</td>\n",
              "      <td>2</td>\n",
              "      <td>elstk001</td>\n",
              "      <td>Kevin Elster</td>\n",
              "      <td>6</td>\n",
              "      <td>coned001</td>\n",
              "      <td>David Cone</td>\n",
              "      <td>1</td>\n",
              "      <td>Y</td>\n",
              "    </tr>\n",
              "  </tbody>\n",
              "</table>\n",
              "</div>"
            ],
            "text/plain": [
              "     season       date  number_of_game day_of_week visiting_team  \\\n",
              "24     1990  4/11/1990               1         Wed           SFN   \n",
              "35     1990  4/12/1990               1         Thu           PHI   \n",
              "293    1990   5/5/1990               1         Sat           SDN   \n",
              "300    1990   5/6/1990               1         Sun           TEX   \n",
              "309    1990   5/6/1990               1         Sun           HOU   \n",
              "\n",
              "    visiting_team_league  visiting_team_game_number home_team  \\\n",
              "24                    NL                          1       ATL   \n",
              "35                    NL                          2       CHN   \n",
              "293                   NL                         22       CHN   \n",
              "300                   AL                         24       CLE   \n",
              "309                   NL                         24       NYN   \n",
              "\n",
              "    home_team_league  home_team_game_number  visiting_team_runs  \\\n",
              "24                NL                      1                   8   \n",
              "35                NL                      2                   5   \n",
              "293               NL                     22                   2   \n",
              "300               AL                     23                   5   \n",
              "309               NL                     24                   4   \n",
              "\n",
              "     home_team_runs game_time completion_info park_id  attendance  \\\n",
              "24                0         N             NaN   ATL01         0.0   \n",
              "35                4         D             NaN   CHI11         0.0   \n",
              "293               3         D             NaN   CHI11         0.0   \n",
              "300               9         D             NaN   CLE07         0.0   \n",
              "309               7         D             NaN   NYC17         0.0   \n",
              "\n",
              "     visiting_team_hits  visiting_team_home_runs  home_team_hits  \\\n",
              "24                   13                        2               3   \n",
              "35                    7                        0               9   \n",
              "293                   8                        0               7   \n",
              "300                   8                        3              12   \n",
              "309                  10                        1               7   \n",
              "\n",
              "     home_team_home_runs winning_pitcher_id winning_pitcher_name  \\\n",
              "24                     0           reusr001        Rick Reuschel   \n",
              "35                     1           mulht001     Terry Mulholland   \n",
              "293                    1           maddg002          Greg Maddux   \n",
              "300                    4           candt001        Tom Candiotti   \n",
              "309                    2           franj001          John Franco   \n",
              "\n",
              "    losing_pitcher_id losing_pitcher_name saving_pitcher_id  \\\n",
              "24           glavt001         Tom Glavine               NaN   \n",
              "35           wilss001        Steve Wilson          mcdor001   \n",
              "293          leffc001      Craig Lefferts               NaN   \n",
              "300          bohab001       Brian Bohanon          orosj001   \n",
              "309          smitd001          Dave Smith               NaN   \n",
              "\n",
              "    saving_pitcher_name game_winning_rbi_batter_id  \\\n",
              "24               (none)                   clarw001   \n",
              "35       Roger McDowell                   thond001   \n",
              "293              (none)                   dunss001   \n",
              "300        Jesse Orosco                   baerc001   \n",
              "309              (none)                   mcrek001   \n",
              "\n",
              "    game_winning_rbi_batter_name visiting_pitcher_id visiting_pitcher_name  \\\n",
              "24                    Will Clark            reusr001         Rick Reuschel   \n",
              "35                   Dickie Thon            mulht001      Terry Mulholland   \n",
              "293               Shawon Dunston            benea001            Andy Benes   \n",
              "300                Carlos Baerga            bohab001         Brian Bohanon   \n",
              "309             Kevin McReynolds            deshj001          Jim Deshaies   \n",
              "\n",
              "    home_pitcher_id home_pitcher_name visiting_player1_id  \\\n",
              "24         glavt001       Tom Glavine            butlb001   \n",
              "35         wilss001      Steve Wilson            camps001   \n",
              "293        maddg002       Greg Maddux            alomr001   \n",
              "300        candt001     Tom Candiotti            husoj001   \n",
              "309        coned001        David Cone            yelde001   \n",
              "\n",
              "    visiting_player1_name  visiting_player1_pos visiting_player2_id  \\\n",
              "24           Brett Butler                     8            bassk001   \n",
              "35          Sil Campusano                     8            herrt001   \n",
              "293        Roberto Alomar                     4            gwynt001   \n",
              "300            Jeff Huson                     6            palmr001   \n",
              "309          Eric Yelding                     6            oberk001   \n",
              "\n",
              "    visiting_player2_name  visiting_player2_pos visiting_player3_id  \\\n",
              "24             Kevin Bass                     9            clarw001   \n",
              "35               Tom Herr                     4            martc001   \n",
              "293            Tony Gwynn                     9            cartj001   \n",
              "300       Rafael Palmeiro                     3            franj002   \n",
              "309         Ken Oberkfell                     5            biggc001   \n",
              "\n",
              "    visiting_player3_name  visiting_player3_pos visiting_player4_id  \\\n",
              "24             Will Clark                     3            mitck001   \n",
              "35       Carmelo Martinez                     7            jordr001   \n",
              "293            Joe Carter                     8            clarj001   \n",
              "300          Julio Franco                     4            sierr001   \n",
              "309          Craig Biggio                     2            davig001   \n",
              "\n",
              "    visiting_player4_name  visiting_player4_pos visiting_player5_id  \\\n",
              "24         Kevin Mitchell                     7            willm003   \n",
              "35           Ricky Jordan                     3            hayev001   \n",
              "293            Jack Clark                     3            lynnf001   \n",
              "300          Ruben Sierra                     9            bainh001   \n",
              "309           Glenn Davis                     3            stubf001   \n",
              "\n",
              "    visiting_player5_name  visiting_player5_pos visiting_player6_id  \\\n",
              "24          Matt Williams                     5            thomr003   \n",
              "35              Von Hayes                     9            thond001   \n",
              "293             Fred Lynn                     7            santb001   \n",
              "300         Harold Baines                    10            incap001   \n",
              "309       Franklin Stubbs                     9            anthe001   \n",
              "\n",
              "    visiting_player6_name  visiting_player6_pos visiting_player7_id  \\\n",
              "24         Robby Thompson                     4            cartg001   \n",
              "35            Dickie Thon                     6            lakes001   \n",
              "293       Benito Santiago                     2            robeb002   \n",
              "300       Pete Incaviglia                     7            petrg001   \n",
              "309          Eric Anthony                     7            candc001   \n",
              "\n",
              "    visiting_player7_name  visiting_player7_pos visiting_player8_id  \\\n",
              "24            Gary Carter                     2            uribj001   \n",
              "35             Steve Lake                     2            hayec001   \n",
              "293           Bip Roberts                     5            tempg001   \n",
              "300         Geno Petralli                     2            cools001   \n",
              "309        Casey Candaele                     4            young001   \n",
              "\n",
              "    visiting_player8_name  visiting_player8_pos visiting_player9_id  \\\n",
              "24             Jose Uribe                     6            reusr001   \n",
              "35          Charlie Hayes                     5            mulht001   \n",
              "293       Garry Templeton                     6            benea001   \n",
              "300       Scott Coolbaugh                     5            pettg001   \n",
              "309          Gerald Young                     8            deshj001   \n",
              "\n",
              "    visiting_player9_name  visiting_player9_pos home_player1_id  \\\n",
              "24          Rick Reuschel                     1        mcdoo001   \n",
              "35       Terry Mulholland                     1        waltj001   \n",
              "293            Andy Benes                     1        wynnm001   \n",
              "300           Gary Pettis                     8        websm001   \n",
              "309          Jim Deshaies                     1        carrm001   \n",
              "\n",
              "    home_player1_name  home_player1_pos home_player2_id home_player2_name  \\\n",
              "24    Oddibe McDowell                 8        treaj001     Jeff Treadway   \n",
              "35      Jerome Walton                 8        sandr001     Ryne Sandberg   \n",
              "293     Marvell Wynne                 8        sandr001     Ryne Sandberg   \n",
              "300     Mitch Webster                 8        browj001      Jerry Browne   \n",
              "309      Mark Carreon                 8        teuft001        Tim Teufel   \n",
              "\n",
              "     home_player2_pos home_player3_id home_player3_name  home_player3_pos  \\\n",
              "24                  4        gregt001       Tommy Gregg                 7   \n",
              "35                  4        mccll001   Lloyd McClendon                 7   \n",
              "293                 4        smitd003      Dwight Smith                 9   \n",
              "300                 4        baerc001     Carlos Baerga                 5   \n",
              "309                 4        johnh001    Howard Johnson                 5   \n",
              "\n",
              "    home_player4_id home_player4_name  home_player4_pos home_player5_id  \\\n",
              "24         esasn001       Nick Esasky                 3        murpd001   \n",
              "35         dawsa001      Andre Dawson                 9        gracm001   \n",
              "293        gracm001        Mark Grace                 3        clard001   \n",
              "300        snydc001       Cory Snyder                 9        maldc001   \n",
              "309        mcrek001  Kevin McReynolds                 7        marsm001   \n",
              "\n",
              "    home_player5_name  home_player5_pos home_player6_id home_player6_name  \\\n",
              "24        Dale Murphy                 9        white002       Ernie Whitt   \n",
              "35         Mark Grace                 3        salal001      Luis Salazar   \n",
              "293        Dave Clark                 7        salal001      Luis Salazar   \n",
              "300   Candy Maldonado                10        jacob001      Brook Jacoby   \n",
              "309     Mike Marshall                 3        reedd001       Darren Reed   \n",
              "\n",
              "     home_player6_pos home_player7_id home_player7_name  home_player7_pos  \\\n",
              "24                  2        presj001       Jim Presley                 5   \n",
              "35                  5        dunss001    Shawon Dunston                 6   \n",
              "293                 5        dunss001    Shawon Dunston                 6   \n",
              "300                 3        jamec001       Chris James                 7   \n",
              "309                 9        lyonb002       Barry Lyons                 2   \n",
              "\n",
              "    home_player8_id home_player8_name  home_player8_pos home_player9_id  \\\n",
              "24         blauj001      Jeff Blauser                 6        glavt001   \n",
              "35         giraj001       Joe Girardi                 2        wilss001   \n",
              "293        giraj001       Joe Girardi                 2        maddg002   \n",
              "300        aloms001      Sandy Alomar                 2        fermf001   \n",
              "309        elstk001      Kevin Elster                 6        coned001   \n",
              "\n",
              "    home_player9_name  home_player9_pos acquisition_info  \n",
              "24        Tom Glavine                 1                Y  \n",
              "35       Steve Wilson                 1                Y  \n",
              "293       Greg Maddux                 1                Y  \n",
              "300      Felix Fermin                 6                Y  \n",
              "309        David Cone                 1                Y  "
            ]
          },
          "metadata": {
            "tags": []
          },
          "execution_count": 30
        }
      ]
    },
    {
      "metadata": {
        "id": "sVHHt4kzqIik",
        "colab_type": "text"
      },
      "cell_type": "markdown",
      "source": [
        "we can see that all the games with 0 attendence have 1 in column \"number_of_game\":"
      ]
    },
    {
      "metadata": {
        "id": "QvjqGggKqIil",
        "colab_type": "code",
        "colab": {
          "base_uri": "https://localhost:8080/",
          "height": 34
        },
        "outputId": "7f798448-834a-4960-c399-cb2f551ae8e6"
      },
      "cell_type": "code",
      "source": [
        "data.loc[(data['attendance'] == 0) & (data['number_of_game'] !=1)].shape"
      ],
      "execution_count": 31,
      "outputs": [
        {
          "output_type": "execute_result",
          "data": {
            "text/plain": [
              "(0, 87)"
            ]
          },
          "metadata": {
            "tags": []
          },
          "execution_count": 31
        }
      ]
    },
    {
      "metadata": {
        "id": "_JkjL9t6qIin",
        "colab_type": "text"
      },
      "cell_type": "markdown",
      "source": [
        "this happens when there are 2 games in a row and the audience can stay in the stadium. We can ignore these rows of data. __Since we will later create new features, such as player's statistics, which are cumulative and we want to take into account all the games along a season, we will keep the original data as is and ignore the missing values only before modeling__."
      ]
    },
    {
      "metadata": {
        "id": "GYtqEogpqIip",
        "colab_type": "code",
        "colab": {}
      },
      "cell_type": "code",
      "source": [
        "data_for_modeling = data[data['attendance']!=0]"
      ],
      "execution_count": 0,
      "outputs": []
    },
    {
      "metadata": {
        "id": "MTO_CH40qIiq",
        "colab_type": "text"
      },
      "cell_type": "markdown",
      "source": [
        "We also have 3 missing attendance values, since it is only 3 we will ignore them:"
      ]
    },
    {
      "metadata": {
        "id": "YvK6iQTvqIit",
        "colab_type": "code",
        "colab": {
          "base_uri": "https://localhost:8080/",
          "height": 1071
        },
        "outputId": "d9eb864f-df00-4822-e348-c6843900c717"
      },
      "cell_type": "code",
      "source": [
        "np.sum(data_for_modeling.isnull())"
      ],
      "execution_count": 33,
      "outputs": [
        {
          "output_type": "execute_result",
          "data": {
            "text/plain": [
              "season                              0\n",
              "date                                0\n",
              "number_of_game                      0\n",
              "day_of_week                         0\n",
              "visiting_team                       0\n",
              "visiting_team_league                0\n",
              "visiting_team_game_number           0\n",
              "home_team                           0\n",
              "home_team_league                    0\n",
              "home_team_game_number               0\n",
              "visiting_team_runs                  0\n",
              "home_team_runs                      0\n",
              "game_time                           1\n",
              "completion_info                 64801\n",
              "park_id                             0\n",
              "attendance                          3\n",
              "visiting_team_hits                  0\n",
              "visiting_team_home_runs             0\n",
              "home_team_hits                      0\n",
              "home_team_home_runs                 0\n",
              "winning_pitcher_id                 13\n",
              "winning_pitcher_name               13\n",
              "losing_pitcher_id                  13\n",
              "losing_pitcher_name                13\n",
              "saving_pitcher_id               31965\n",
              "saving_pitcher_name                 0\n",
              "game_winning_rbi_batter_id       3245\n",
              "game_winning_rbi_batter_name        0\n",
              "visiting_pitcher_id                 0\n",
              "visiting_pitcher_name               0\n",
              "                                ...  \n",
              "visiting_player9_name               0\n",
              "visiting_player9_pos                0\n",
              "home_player1_id                     0\n",
              "home_player1_name                   0\n",
              "home_player1_pos                    0\n",
              "home_player2_id                     0\n",
              "home_player2_name                   0\n",
              "home_player2_pos                    0\n",
              "home_player3_id                     0\n",
              "home_player3_name                   0\n",
              "home_player3_pos                    0\n",
              "home_player4_id                     0\n",
              "home_player4_name                   0\n",
              "home_player4_pos                    0\n",
              "home_player5_id                     0\n",
              "home_player5_name                   0\n",
              "home_player5_pos                    0\n",
              "home_player6_id                     0\n",
              "home_player6_name                   0\n",
              "home_player6_pos                    0\n",
              "home_player7_id                     0\n",
              "home_player7_name                   0\n",
              "home_player7_pos                    0\n",
              "home_player8_id                     0\n",
              "home_player8_name                   0\n",
              "home_player8_pos                    0\n",
              "home_player9_id                     0\n",
              "home_player9_name                   0\n",
              "home_player9_pos                    0\n",
              "acquisition_info                    0\n",
              "Length: 87, dtype: int64"
            ]
          },
          "metadata": {
            "tags": []
          },
          "execution_count": 33
        }
      ]
    },
    {
      "metadata": {
        "id": "-ftzjzxTqIiw",
        "colab_type": "code",
        "colab": {}
      },
      "cell_type": "code",
      "source": [
        "data_for_modeling = data_for_modeling[data_for_modeling.attendance.notnull()]"
      ],
      "execution_count": 0,
      "outputs": []
    },
    {
      "metadata": {
        "id": "2674d31PqIix",
        "colab_type": "text"
      },
      "cell_type": "markdown",
      "source": [
        "## Initial Data enrichment and cleaning\n",
        "The initial data is lacking very basic features, so let's get them.\n",
        "<br>\n",
        "_divisions_ - team's division (east/west/center) (categorical)\n",
        "<br>\n",
        "_loss count_ - the number of losses this season up until this game (numeric)\n",
        "<br>\n",
        "_park capacity_ - official number, attendance can sometimes be higher than the park capacity (numeric)"
      ]
    },
    {
      "metadata": {
        "id": "jNzUG1FSqIiy",
        "colab_type": "code",
        "colab": {}
      },
      "cell_type": "code",
      "source": [
        "data_as_dict = data.to_dict(\"records\")\n",
        "type_fix(data_as_dict)\n",
        "fix_team_names(data_as_dict)\n",
        "divisions(data_as_dict)\n",
        "loss_count(data_as_dict)\n",
        "park_capacity(data_as_dict)\n",
        "data = pd.DataFrame().from_records(data_as_dict)\n",
        "\n",
        "data_for_modeling = data[data['attendance']!=0]\n",
        "data_for_modeling = data_for_modeling[data_for_modeling.attendance.notnull()]"
      ],
      "execution_count": 0,
      "outputs": []
    },
    {
      "metadata": {
        "id": "TNmYGN2HqIi1",
        "colab_type": "text"
      },
      "cell_type": "markdown",
      "source": [
        "<font color=blue>__in-data correlation__</font>"
      ]
    },
    {
      "metadata": {
        "id": "yUxJQwHQqIi1",
        "colab_type": "text"
      },
      "cell_type": "markdown",
      "source": [
        "We will show correlations only between some features (because of visibility reasons)"
      ]
    },
    {
      "metadata": {
        "id": "f49ndNJCqIi3",
        "colab_type": "code",
        "colab": {}
      },
      "cell_type": "code",
      "source": [
        "data1=data_for_modeling[['season','date','number_of_game','day_of_week','visiting_team','visiting_team_league','visiting_team_division','visiting_team_game_number','home_team','home_team_league','home_team_division','home_team_game_number','visiting_team_runs','home_team_runs','winning_team','visiting_team_loss_count','home_team_loss_count','game_time','park_id','park_capacity','attendance']]"
      ],
      "execution_count": 0,
      "outputs": []
    },
    {
      "metadata": {
        "id": "fATZZm71qIi6",
        "colab_type": "code",
        "colab": {
          "base_uri": "https://localhost:8080/",
          "height": 655
        },
        "outputId": "dc321ba7-0245-44b6-af4c-b5fb9cba7347"
      },
      "cell_type": "code",
      "source": [
        "corr = data1.corr()\n",
        "sns.set(style=\"white\")\n",
        "mask = np.zeros_like(corr, dtype=np.bool)\n",
        "mask[np.triu_indices_from(mask)] = True\n",
        "f, ax = plt.subplots(figsize=(11, 9))\n",
        "cmap = sns.diverging_palette(220, 10, as_cmap=True)\n",
        "sns.heatmap(corr, mask=mask, cmap=cmap, vmax=.3, center=0,\n",
        "            square=True, linewidths=.5, cbar_kws={\"shrink\": .5})\n",
        "plt.show()"
      ],
      "execution_count": 37,
      "outputs": [
        {
          "output_type": "display_data",
          "data": {
            "image/png": "[encoded data removed]",
            "text/plain": [
              "<Figure size 792x648 with 2 Axes>"
            ]
          },
          "metadata": {
            "tags": []
          }
        }
      ]
    },
    {
      "metadata": {
        "id": "dFrkOFP4qIi_",
        "colab_type": "text"
      },
      "cell_type": "markdown",
      "source": [
        "As can be seen in the last line of the table, no feature affects the attendance dramatically on its own"
      ]
    },
    {
      "metadata": {
        "id": "LdQ6zClCqIjA",
        "colab_type": "text"
      },
      "cell_type": "markdown",
      "source": [
        "<font color=blue>__trends over time of week__</font>"
      ]
    },
    {
      "metadata": {
        "id": "PlPZOaDVqIjB",
        "colab_type": "code",
        "colab": {
          "base_uri": "https://localhost:8080/",
          "height": 395
        },
        "outputId": "f9dedf07-0899-4b0b-e577-ab914b54f075"
      },
      "cell_type": "code",
      "source": [
        "order = ['Mon','Tue','Wed','Thu','Fri','Sat', 'Sun']\n",
        "data1 = data_for_modeling[['day_of_week','game_time','attendance' ]]\n",
        "sns.boxplot(x='day_of_week', y='attendance',data=data1, order=order,hue='game_time')\n",
        "plt.legend(bbox_to_anchor=(1.05, 1), loc=2, borderaxespad=0.)\n",
        "plt.show()"
      ],
      "execution_count": 38,
      "outputs": [
        {
          "output_type": "stream",
          "text": [
            "/usr/local/lib/python3.6/dist-packages/seaborn/categorical.py:482: FutureWarning: remove_na is deprecated and is a private function. Do not use.\n",
            "  box_data = remove_na(group_data[hue_mask])\n"
          ],
          "name": "stderr"
        },
        {
          "output_type": "display_data",
          "data": {
            "image/png": "[encoded data removed]",
            "text/plain": [
              "<Figure size 576x396 with 1 Axes>"
            ]
          },
          "metadata": {
            "tags": []
          }
        }
      ]
    },
    {
      "metadata": {
        "id": "d3DvRUQyqIjF",
        "colab_type": "text"
      },
      "cell_type": "markdown",
      "source": [
        "we can see a slight difference between weekdays and weekends and between day (D) and night (N) games."
      ]
    },
    {
      "metadata": {
        "id": "FWdJikLfqIjG",
        "colab_type": "text"
      },
      "cell_type": "markdown",
      "source": [
        "<font color=blue>__Home team influence__</font>"
      ]
    },
    {
      "metadata": {
        "id": "lJjFTtE9qIjG",
        "colab_type": "code",
        "colab": {
          "base_uri": "https://localhost:8080/",
          "height": 559
        },
        "outputId": "7313bd95-6f6d-41a7-925e-65e8b2a3e603"
      },
      "cell_type": "code",
      "source": [
        "sns.set(rc={'figure.figsize':(11.7,8.27)})\n",
        "order = data_for_modeling.groupby(by=[\"home_team\"])[\"attendance\"].mean().sort_values()[::-1].index\n",
        "ax = sns.boxplot(x='home_team', y='attendance', data=data_for_modeling, order = order)\n",
        "ax.set_xticklabels(ax.get_xticklabels(),rotation=45)\n",
        "plt.show()"
      ],
      "execution_count": 39,
      "outputs": [
        {
          "output_type": "stream",
          "text": [
            "/usr/local/lib/python3.6/dist-packages/seaborn/categorical.py:454: FutureWarning: remove_na is deprecated and is a private function. Do not use.\n",
            "  box_data = remove_na(group_data)\n"
          ],
          "name": "stderr"
        },
        {
          "output_type": "display_data",
          "data": {
            "image/png": "[encoded data removed]",
            "text/plain": [
              "<Figure size 842.4x595.44 with 1 Axes>"
            ]
          },
          "metadata": {
            "tags": []
          }
        }
      ]
    },
    {
      "metadata": {
        "id": "M8HlOWtlqIjJ",
        "colab_type": "text"
      },
      "cell_type": "markdown",
      "source": [
        "We can see a general trend along the home teams. We can also see that BOS has very little variance comparing to CLE."
      ]
    },
    {
      "metadata": {
        "id": "fLZx1bElqIjJ",
        "colab_type": "text"
      },
      "cell_type": "markdown",
      "source": [
        "## Modeling\n",
        "### Basic data & basic models\n",
        "\n",
        "We will start from one global parametric model - linear regression and one local nonparametric model - KNN regression.\n",
        "We drop all the 'after game time' variables which obviously did not influence the number of attendance (such as the winning team or the hit counts), we will convert all the categorical variables to one-hot encoding. \n",
        "__Since encoding the player's lineup variables result in a huge dimension, we will ignore the players for now and think of a way to reduce the dimensionality while still using this data.__"
      ]
    },
    {
      "metadata": {
        "id": "z-OJKXQ4qIjL",
        "colab_type": "text"
      },
      "cell_type": "markdown",
      "source": [
        "<font color=blue>__Linear regression__</font>"
      ]
    },
    {
      "metadata": {
        "id": "B5LThAGFqIjM",
        "colab_type": "code",
        "colab": {}
      },
      "cell_type": "code",
      "source": [
        "# treat the days as categorial data \n",
        "data_for_modeling['day_of_week'] = data_for_modeling['day_of_week'].astype('category')\n",
        "data_for_modeling['day_of_week'] = data_for_modeling['day_of_week'].cat.reorder_categories(['Mon', 'Tue', 'Wed','Thu','Fri','Sat','Sun'], ordered=True)\n",
        "data_for_modeling['day_of_week'] = data_for_modeling['day_of_week'].cat.codes\n",
        "\n",
        "# one-hot encoding for the visiting team and home team\n",
        "oh_visiting_team = pd.get_dummies(data_for_modeling['visiting_team'],prefix='visiting_team')\n",
        "oh_home_team = pd.get_dummies(data_for_modeling['home_team'],prefix='home_team')\n",
        "\n",
        "# treat the leagues as categorial data \n",
        "cats = data_for_modeling[['visiting_team_league','home_team_league']].stack().sort_values().unique()\n",
        "data_for_modeling['visiting_team_league'] = pd.Categorical(data_for_modeling['visiting_team_league'], categories=cats)\n",
        "data_for_modeling['home_team_league'] = pd.Categorical(data_for_modeling['home_team_league'], categories=cats)\n",
        "data_for_modeling[['visiting_team_league','home_team_league']] = data_for_modeling[['visiting_team_league','home_team_league']].apply(lambda x: x.cat.codes)\n",
        "\n",
        "# one-hot encoding for the team's division\n",
        "oh_visiting_team_division = pd.get_dummies(data_for_modeling['visiting_team_division'],prefix='visiting_team_division')\n",
        "oh_home_team_division = pd.get_dummies(data_for_modeling['home_team_division'],prefix='home_team_division')\n",
        "\n",
        "# treat the game time as categorial data \n",
        "data_for_modeling['game_time'] = data_for_modeling['game_time'].astype('category')\n",
        "data_for_modeling['game_time'] = data_for_modeling['game_time'].cat.codes\n",
        "\n",
        "# one-hot encoding for the park ids\n",
        "oh_park_id = pd.get_dummies(data_for_modeling['park_id'],prefix='park_id')\n",
        "\n",
        "Y = data_for_modeling[\"attendance\"]\n",
        "\n",
        "# drop post-game features and players ids and names\n",
        "post_game_features_and_players = ['home_player9_id','home_player8_id','home_player7_id','home_player6_id','home_player5_id','home_player4_id',\n",
        "             'home_player3_id','home_player2_id','home_player1_id','visiting_player9_id','visiting_player8_id','visiting_player7_id',\n",
        "             'visiting_player6_id','visiting_player5_id','visiting_player4_id','visiting_player3_id','visiting_player2_id','visiting_player1_id',\n",
        "             'home_pitcher_id','visiting_pitcher_id','park_id','home_team_division','visiting_team_division','home_team','visiting_team',\n",
        "             'attendance','winning_team','completion_info','visiting_team_runs','home_team_runs','visiting_team_hits','visiting_team_home_runs','home_team_hits',\n",
        "             'home_team_home_runs','home_team_home_runs','winning_pitcher_id','winning_pitcher_name','losing_pitcher_id',\n",
        "             'losing_pitcher_name','saving_pitcher_id','saving_pitcher_name','game_winning_rbi_batter_id','game_winning_rbi_batter_name',\n",
        "             'visiting_pitcher_name','home_pitcher_name','visiting_player1_name','visiting_player2_name','visiting_player3_name',\n",
        "             'visiting_player4_name','visiting_player5_name','visiting_player6_name','visiting_player7_name','visiting_player8_name',\n",
        "             'visiting_player9_name','home_player1_name','home_player2_name','home_player3_name','home_player4_name',\n",
        "             'home_player5_name','home_player6_name','home_player7_name','home_player8_name','home_player9_name','acquisition_info',\n",
        "             'visiting_pitcher_id','home_pitcher_id','visiting_player1_id','visiting_player2_id','visiting_player3_id','visiting_player3_id',\n",
        "             'visiting_player4_id','visiting_player5_id','visiting_player6_id','visiting_player7_id','visiting_player8_id','visiting_player9_id',\n",
        "             'home_player1_id','home_player2_id','home_player3_id','home_player4_id','home_player5_id','home_player6_id','home_player7_id',\n",
        "             'home_player8_id','home_player9_id']\n",
        "X = data_for_modeling.drop(post_game_features_and_players,axis=1)\n",
        "X = pd.concat([X,oh_visiting_team,oh_home_team,oh_visiting_team_division,oh_home_team_division,oh_park_id],axis=1)\n",
        "#convert the date to date type\n",
        "X['date'] = pd.to_datetime(X['date'])\n",
        "X['date']=X['date'].map(datetime.toordinal)"
      ],
      "execution_count": 0,
      "outputs": []
    },
    {
      "metadata": {
        "id": "4KRYVTcCqIjO",
        "colab_type": "code",
        "colab": {
          "base_uri": "https://localhost:8080/",
          "height": 34
        },
        "outputId": "2ce8c100-8234-4419-f7fb-05bea46fb7ec"
      },
      "cell_type": "code",
      "source": [
        "print(\"data dimensions after first enrichment and one-hot encoding\", X.shape)"
      ],
      "execution_count": 41,
      "outputs": [
        {
          "output_type": "stream",
          "text": [
            "data dimensions after first enrichment and one-hot encoding (64836, 160)\n"
          ],
          "name": "stdout"
        }
      ]
    },
    {
      "metadata": {
        "id": "rs0jbbUmqIjR",
        "colab_type": "code",
        "colab": {
          "base_uri": "https://localhost:8080/",
          "height": 51
        },
        "outputId": "cb5c3718-ed6c-43e0-e5ac-9a5a78b5937b"
      },
      "cell_type": "code",
      "source": [
        "lm = linear_model.LinearRegression()\n",
        "score = cross_val_score(lm, X, Y, cv=10, scoring='neg_mean_squared_error')\n",
        "print (\"The RMSE score for 10-fold cross validation is \", np.sqrt(score.mean()*-1))\n",
        "lm.fit(X,Y)\n",
        "print (\"The R^2 score is \", lm.score(X,Y))"
      ],
      "execution_count": 42,
      "outputs": [
        {
          "output_type": "stream",
          "text": [
            "The RMSE score for 10-fold cross validation is  8834.238224102965\n",
            "The R^2 score is  0.4815372999667861\n"
          ],
          "name": "stdout"
        }
      ]
    },
    {
      "metadata": {
        "id": "IiKINRWgqIjV",
        "colab_type": "code",
        "colab": {
          "base_uri": "https://localhost:8080/",
          "height": 425
        },
        "outputId": "5ef4628e-0239-4559-b05e-f93ab6b94e04"
      },
      "cell_type": "code",
      "source": [
        "res = feature_selection.f_regression(X, Y)\n",
        "params = pd.Series(res[1], index=X.columns)\n",
        "print(\"the most significant features are: (p-values)\")\n",
        "print(params.sort_values()[:10])\n",
        "print(\"the least significant features are:(p-values)\")\n",
        "print(params.sort_values()[-10:])"
      ],
      "execution_count": 43,
      "outputs": [
        {
          "output_type": "stream",
          "text": [
            "the most significant features are: (p-values)\n",
            "home_team_NYA     0.000000e+00\n",
            "home_team_LAN     0.000000e+00\n",
            "home_team_MON     0.000000e+00\n",
            "home_team_TBA     0.000000e+00\n",
            "park_id_MON02     0.000000e+00\n",
            "park_id_LOS03     0.000000e+00\n",
            "day_of_week       0.000000e+00\n",
            "park_id_STP01     0.000000e+00\n",
            "home_team_SLN    1.751128e-289\n",
            "home_team_MIA    6.880876e-276\n",
            "dtype: float64\n",
            "the least significant features are:(p-values)\n",
            "park_id_MNT01               0.280393\n",
            "park_id_SYD01               0.292785\n",
            "home_player1_pos            0.314740\n",
            "park_id_ATL03               0.344728\n",
            "park_id_SAN02               0.385980\n",
            "visiting_team_division_E    0.464431\n",
            "home_team_SEA               0.471358\n",
            "visiting_player5_pos        0.645760\n",
            "home_player6_pos            0.871319\n",
            "visiting_team_OAK           0.968143\n",
            "dtype: float64\n"
          ],
          "name": "stdout"
        }
      ]
    },
    {
      "metadata": {
        "id": "uEicE7UsqIjY",
        "colab_type": "text"
      },
      "cell_type": "markdown",
      "source": [
        "<font color=blue>__KNN regression__</font>"
      ]
    },
    {
      "metadata": {
        "id": "OLwsuq3vqIjZ",
        "colab_type": "code",
        "colab": {
          "base_uri": "https://localhost:8080/",
          "height": 1341
        },
        "outputId": "e99374d0-ab7a-4fd9-f655-c48bbbaceb97"
      },
      "cell_type": "code",
      "source": [
        "r2=[0 for i in range(15)]\n",
        "rmse=[0 for i in range(15)]\n",
        "\n",
        "for i in tqdm(range(1,16)):\n",
        "    neigh = KNeighborsRegressor(n_neighbors=i)\n",
        "    score = cross_val_score(neigh, X, Y, cv=10, scoring='neg_mean_squared_error')\n",
        "    rmse[i-1] = np.sqrt(score.mean()*-1)\n",
        "    neigh.fit(X,Y)\n",
        "    r2[i-1] = neigh.score(X,Y)\n",
        "    \n",
        "plt.plot([i for i in range(1,16)],r2)\n",
        "plt.ylabel('R^2')\n",
        "plt.xlabel('k')\n",
        "plt.title('KNN regression R^2')\n",
        "plt.show()\n",
        "\n",
        "plt.plot([i for i in range(1,16)],rmse)\n",
        "plt.ylabel('RMSE')\n",
        "plt.xlabel('k')\n",
        "plt.title('KNN regression 10 fold cross validation RMSE')\n",
        "plt.show()\n",
        "\n",
        "best = np.argmin(rmse)\n",
        "print(\"the best result is for K=\", best+1, \" with RMSE = \", rmse[best], \" and R^2 = \", r2[best])"
      ],
      "execution_count": 44,
      "outputs": [
        {
          "output_type": "stream",
          "text": [
            "\n",
            "  0%|          | 0/15 [00:00<?, ?it/s]\n",
            "  7%|▋         | 1/15 [00:25<06:00, 25.73s/it]\n",
            " 13%|█▎        | 2/15 [00:52<05:36, 25.92s/it]\n",
            " 20%|██        | 3/15 [01:18<05:13, 26.11s/it]\n",
            " 27%|██▋       | 4/15 [01:46<04:52, 26.62s/it]\n",
            " 33%|███▎      | 5/15 [02:14<04:29, 26.95s/it]\n",
            " 40%|████      | 6/15 [02:41<04:03, 27.11s/it]\n",
            " 47%|████▋     | 7/15 [03:09<03:37, 27.23s/it]\n",
            " 53%|█████▎    | 8/15 [03:37<03:11, 27.41s/it]\n",
            " 60%|██████    | 9/15 [04:05<02:45, 27.61s/it]\n",
            " 67%|██████▋   | 10/15 [04:33<02:18, 27.80s/it]\n",
            " 73%|███████▎  | 11/15 [05:01<01:52, 28.01s/it]\n",
            " 80%|████████  | 12/15 [05:30<01:24, 28.19s/it]\n",
            " 87%|████████▋ | 13/15 [05:59<00:56, 28.31s/it]\n",
            " 93%|█████████▎| 14/15 [06:27<00:28, 28.45s/it]\n",
            "100%|██████████| 15/15 [06:57<00:00, 28.94s/it]\n"
          ],
          "name": "stderr"
        },
        {
          "output_type": "display_data",
          "data": {
            "image/png": "[encoded data removed]",
            "text/plain": [
              "<Figure size 842.4x595.44 with 1 Axes>"
            ]
          },
          "metadata": {
            "tags": []
          }
        },
        {
          "output_type": "display_data",
          "data": {
            "image/png": "[encoded data removed]",
            "text/plain": [
              "<Figure size 842.4x595.44 with 1 Axes>"
            ]
          },
          "metadata": {
            "tags": []
          }
        },
        {
          "output_type": "stream",
          "text": [
            "the best result is for K= 11  with RMSE =  9419.517857958823  and R^2 =  0.6818207382263568\n"
          ],
          "name": "stdout"
        }
      ]
    },
    {
      "metadata": {
        "id": "ARlzdUdkqIjc",
        "colab_type": "text"
      },
      "cell_type": "markdown",
      "source": [
        "As can be seen, both linear and KNN regression do not perform very well. We need to integrate external data and engineer new features."
      ]
    },
    {
      "metadata": {
        "id": "j5Rs2LFlqIjd",
        "colab_type": "text"
      },
      "cell_type": "markdown",
      "source": [
        "## Feature Engineering\n",
        "__Integrations__: \n",
        "<br>\n",
        "- _holidays_ - 1 if Opening Day (first home game of the year), July 4th (in US), Labor Day, Memorial Day, Canada day (in Canada) (boolean)\n",
        "<br>\n",
        "- _rivalry_  - 1 if the game is between local/historic rivals. For instance 2 teams from the same city or the famous New York Yankees vs Boston Red Sox (boolean)\n",
        "<br>\n",
        "- _weather_  - 3 new features: wind speed, temperture and condition score (enumeration of weather condition. no clouds/in dome=0, cloudy/overcast=1, rain=3,snow/hail=5) (numeric)\n",
        "<br>\n",
        "- _salary_ - 3 new features (for each team): yearly max and avarege salary of lineup players and starting pitcher salary. Normalized against all salaries in a given season. (numeric)"
      ]
    },
    {
      "metadata": {
        "id": "IqfiUbZbqIjd",
        "colab_type": "text"
      },
      "cell_type": "markdown",
      "source": [
        "__Feature Engineering__:\n",
        "<br>\n",
        "- _streaks_  - number of winning(positive)/lossing(negative) games in a row until the current game for each team(numeric)\n",
        "<br>\n",
        "- _intradivision_ - 1 if game was between two teams from the same division and league, 0 otherwise (boolean)\n",
        "<br>\n",
        "- _interleague_ - 1 if the game is between teams from opposite leagues. (boolean) \n",
        "<br>\n",
        "- _players statistics_ - 6 new features (for each team): max slugging percentage, avarege slugging percentage, max on-base plus slugging, avarege on-base plus slugging, starting pitcher earned run average, starting pitcher win probability added. All the features are normalized against all other player's statistcs for that game number, in that season. These features are meant to indicate the presence of \"star\" players and overall team gameplay quality (numeric)\n",
        "<br>\n",
        "- _games behind_ - difference in number of losses between a given team and the first place team in its division, for each team(numeric)\n",
        "<br>\n",
        "- _rank in division_ - team's rank (1st/2nd,3rd…) in its division prior to the game, for each team (numeric)"
      ]
    },
    {
      "metadata": {
        "id": "NDL8WonhqIje",
        "colab_type": "code",
        "colab": {}
      },
      "cell_type": "code",
      "source": [
        "data_as_dict = data.to_dict(\"records\")\n",
        "weather(data_as_dict)\n",
        "holiday(data_as_dict)\n",
        "rivalry(data_as_dict)\n",
        "interleague(data_as_dict)\n",
        "intradivision(data_as_dict)\n",
        "cumulative_metric(data_as_dict, 'runs')\n",
        "cumulative_metric(data_as_dict, 'hits')\n",
        "cumulative_metric(data_as_dict, 'home_runs')\n",
        "streaks(data_as_dict)\n",
        "standings(data_as_dict)\n",
        "salary(data_as_dict)\n",
        "player_stats(data_as_dict)\n",
        "data = pd.DataFrame().from_records(data_as_dict)\n",
        "\n",
        "data_for_modeling = data[data['attendance']!=0]\n",
        "data_for_modeling = data_for_modeling[data_for_modeling.attendance.notnull()]"
      ],
      "execution_count": 0,
      "outputs": []
    },
    {
      "metadata": {
        "id": "G0JLVVVqqIjf",
        "colab_type": "text"
      },
      "cell_type": "markdown",
      "source": [
        "### Converting to prediction of bins\n",
        "Since papers have found that an increase in 1000 spectators results in 10.74 annual hours of traffic delay, we have decided to focus on predicting MLB attendance by bins of 1000."
      ]
    },
    {
      "metadata": {
        "id": "99UClWBcqIjf",
        "colab_type": "code",
        "colab": {}
      },
      "cell_type": "code",
      "source": [
        "data_for_modeling['attendance_in_thousands'] = data_for_modeling['attendance'].apply(lambda x: int(round(x, -3)/1000))"
      ],
      "execution_count": 0,
      "outputs": []
    },
    {
      "metadata": {
        "id": "ZaJcg3tMqIjh",
        "colab_type": "text"
      },
      "cell_type": "markdown",
      "source": [
        "## Modeling\n",
        "### Augmented Data & basic models"
      ]
    },
    {
      "metadata": {
        "id": "8QH8znCPqIji",
        "colab_type": "code",
        "colab": {}
      },
      "cell_type": "code",
      "source": [
        "# treat the days as categorial data \n",
        "data_for_modeling['day_of_week'] = data_for_modeling['day_of_week'].astype('category')\n",
        "data_for_modeling['day_of_week'] = data_for_modeling['day_of_week'].cat.reorder_categories(['Mon', 'Tue', 'Wed','Thu','Fri','Sat','Sun'], ordered=True)\n",
        "data_for_modeling['day_of_week'] = data_for_modeling['day_of_week'].cat.codes\n",
        "\n",
        "# one-hot encoding for the visiting team\n",
        "oh_visiting_team = pd.get_dummies(data_for_modeling['visiting_team'],prefix='visiting_team')\n",
        "oh_home_team = pd.get_dummies(data_for_modeling['home_team'],prefix='home_team')\n",
        "\n",
        "# treat the leagues as categorial data \n",
        "cats = data_for_modeling[['visiting_team_league','home_team_league']].stack().sort_values().unique()\n",
        "data_for_modeling['visiting_team_league'] = pd.Categorical(data_for_modeling['visiting_team_league'], categories=cats)\n",
        "data_for_modeling['home_team_league'] = pd.Categorical(data_for_modeling['home_team_league'], categories=cats)\n",
        "data_for_modeling[['visiting_team_league','home_team_league']] = data_for_modeling[['visiting_team_league','home_team_league']].apply(lambda x: x.cat.codes)\n",
        "\n",
        "# one-hot encoding for the team's division\n",
        "oh_visiting_team_division = pd.get_dummies(data_for_modeling['visiting_team_division'],prefix='visiting_team_division')\n",
        "oh_home_team_division = pd.get_dummies(data_for_modeling['home_team_division'],prefix='home_team_division')\n",
        "\n",
        "# treat the game time as categorial data \n",
        "data_for_modeling['game_time'] = data_for_modeling['game_time'].astype('category')\n",
        "data_for_modeling['game_time'] = data_for_modeling['game_time'].cat.codes\n",
        "\n",
        "# one-hot encoding for the park ids\n",
        "oh_park_id = pd.get_dummies(data_for_modeling['park_id'],prefix='park_id')\n",
        "\n",
        "Y = data_for_modeling['attendance_in_thousands']\n",
        "\n",
        "X = data_for_modeling.drop(post_game_features_and_players+['attendance_in_thousands'],axis=1)\n",
        "X = pd.concat([X,oh_visiting_team,oh_home_team,oh_visiting_team_division,oh_home_team_division,oh_park_id],axis=1)\n",
        "#convert the date to date type\n",
        "X['date'] = pd.to_datetime(X['date'])\n",
        "X['date']=X['date'].map(datetime.toordinal)"
      ],
      "execution_count": 0,
      "outputs": []
    },
    {
      "metadata": {
        "id": "Xj-TLKPjqIjj",
        "colab_type": "code",
        "colab": {
          "base_uri": "https://localhost:8080/",
          "height": 34
        },
        "outputId": "c2693bca-e935-42ad-b443-fe024b020b09"
      },
      "cell_type": "code",
      "source": [
        "print(\"data dimensions after second enrichment and one-hot encoding\", X.shape)"
      ],
      "execution_count": 48,
      "outputs": [
        {
          "output_type": "stream",
          "text": [
            "data dimensions after second enrichment and one-hot encoding (64836, 207)\n"
          ],
          "name": "stdout"
        }
      ]
    },
    {
      "metadata": {
        "id": "_SnZhyGiqIjm",
        "colab_type": "text"
      },
      "cell_type": "markdown",
      "source": [
        "<font color=blue>__Linear regression__</font>"
      ]
    },
    {
      "metadata": {
        "id": "KEFyRw2lqIjm",
        "colab_type": "code",
        "colab": {
          "base_uri": "https://localhost:8080/",
          "height": 51
        },
        "outputId": "2746ede9-a162-48ad-acf7-f60e32537175"
      },
      "cell_type": "code",
      "source": [
        "lm = linear_model.LinearRegression()\n",
        "score = cross_val_score(lm, X, Y, cv=10, scoring='neg_mean_squared_error')\n",
        "print (\"The RMSE score for 10-fold cross validation is \", np.sqrt(score.mean()*-1))\n",
        "lm.fit(X,Y)\n",
        "print (\"The R^2 score is \", lm.score(X,Y))"
      ],
      "execution_count": 49,
      "outputs": [
        {
          "output_type": "stream",
          "text": [
            "The RMSE score for 10-fold cross validation is  8.04381250956545\n",
            "The R^2 score is  0.5680814359643171\n"
          ],
          "name": "stdout"
        }
      ]
    },
    {
      "metadata": {
        "id": "naJtaqprqIjo",
        "colab_type": "code",
        "colab": {
          "base_uri": "https://localhost:8080/",
          "height": 425
        },
        "outputId": "4e247a70-9099-4171-f43b-463b92c90e8c"
      },
      "cell_type": "code",
      "source": [
        "res = feature_selection.f_regression(X, Y)\n",
        "params = pd.Series(res[1], index=X.columns)\n",
        "print(\"the most significant features are: (p-values)\")\n",
        "print(params.sort_values()[:10])\n",
        "print(\"the least significant features are:(p-values)\")\n",
        "print(params.sort_values()[-10:])"
      ],
      "execution_count": 50,
      "outputs": [
        {
          "output_type": "stream",
          "text": [
            "the most significant features are: (p-values)\n",
            "park_id_MON02                     0.0\n",
            "park_id_LOS03                     0.0\n",
            "rivalry                           0.0\n",
            "home_team_LAN                     0.0\n",
            "home_team_rank_in_division        0.0\n",
            "home_team_games_behind            0.0\n",
            "home_team_NYA                     0.0\n",
            "home_team_avg_slg_normalized      0.0\n",
            "home_team_avg_ops_normalized      0.0\n",
            "home_starter_salary_normalized    0.0\n",
            "dtype: float64\n",
            "the least significant features are:(p-values)\n",
            "park_id_MNT01               0.291626\n",
            "park_id_SYD01               0.302273\n",
            "park_id_ATL03               0.331884\n",
            "home_player1_pos            0.346083\n",
            "park_id_SAN02               0.388342\n",
            "home_team_SEA               0.448971\n",
            "visiting_team_division_E    0.473277\n",
            "visiting_player5_pos        0.632695\n",
            "home_player6_pos            0.901998\n",
            "visiting_team_OAK           0.944652\n",
            "dtype: float64\n"
          ],
          "name": "stdout"
        }
      ]
    },
    {
      "metadata": {
        "id": "RDvTYZECqIjq",
        "colab_type": "text"
      },
      "cell_type": "markdown",
      "source": [
        "Many of our new features are among the most significant ones!"
      ]
    },
    {
      "metadata": {
        "id": "5t9I8fjrqIjr",
        "colab_type": "text"
      },
      "cell_type": "markdown",
      "source": [
        "<font color=blue>__Ridge regression__</font>"
      ]
    },
    {
      "metadata": {
        "id": "FGabG5CQqIjr",
        "colab_type": "code",
        "colab": {
          "base_uri": "https://localhost:8080/",
          "height": 1341
        },
        "outputId": "b80e6db6-be78-4780-b381-d03352fcd7e5"
      },
      "cell_type": "code",
      "source": [
        "r2=[0 for i in range(15)]\n",
        "rmse=[0 for i in range(15)]\n",
        "n_alphas = 15\n",
        "alphas = np.logspace(-2, 2, n_alphas)\n",
        "\n",
        "for i in tqdm(range(0,15)):\n",
        "    ridg = Ridge(alpha = alphas[i])\n",
        "    score = cross_val_score(ridg, X, Y, cv=10, scoring='neg_mean_squared_error')\n",
        "    rmse[i] = np.sqrt(score.mean()*-1)\n",
        "    ridg.fit(X,Y)\n",
        "    r2[i] = ridg.score(X,Y)\n",
        "    \n",
        "plt.plot(alphas,r2)\n",
        "plt.ylabel('R^2')\n",
        "plt.xlabel('alpha')\n",
        "plt.title('Ridge regression R^2')\n",
        "plt.show()\n",
        "\n",
        "plt.plot(alphas,rmse)\n",
        "plt.ylabel('RMSE')\n",
        "plt.xlabel('alpha')\n",
        "plt.title('Ridge regression 10 fold cross validation RMSE')\n",
        "plt.show()\n",
        "\n",
        "best = np.argmin(rmse)\n",
        "print(\"the best result is for alpha=\", alphas[best], \" with RMSE = \", rmse[best], \" and R^2 = \", r2[best])"
      ],
      "execution_count": 51,
      "outputs": [
        {
          "output_type": "stream",
          "text": [
            "\n",
            "  0%|          | 0/15 [00:00<?, ?it/s]\n",
            "  7%|▋         | 1/15 [00:11<02:35, 11.11s/it]\n",
            " 13%|█▎        | 2/15 [00:22<02:24, 11.10s/it]\n",
            " 20%|██        | 3/15 [00:33<02:13, 11.10s/it]\n",
            " 27%|██▋       | 4/15 [00:44<02:01, 11.08s/it]\n",
            " 33%|███▎      | 5/15 [00:55<01:50, 11.07s/it]\n",
            " 40%|████      | 6/15 [01:06<01:39, 11.06s/it]\n",
            " 47%|████▋     | 7/15 [01:17<01:28, 11.07s/it]\n",
            " 53%|█████▎    | 8/15 [01:28<01:17, 11.05s/it]\n",
            " 60%|██████    | 9/15 [01:39<01:06, 11.07s/it]\n",
            " 67%|██████▋   | 10/15 [01:50<00:55, 11.05s/it]\n",
            " 73%|███████▎  | 11/15 [02:01<00:44, 11.04s/it]\n",
            " 80%|████████  | 12/15 [02:12<00:33, 11.07s/it]\n",
            " 87%|████████▋ | 13/15 [02:23<00:22, 11.07s/it]\n",
            " 93%|█████████▎| 14/15 [02:35<00:11, 11.12s/it]\n",
            "100%|██████████| 15/15 [02:46<00:00, 11.11s/it]\n"
          ],
          "name": "stderr"
        },
        {
          "output_type": "display_data",
          "data": {
            "image/png": "[encoded data removed]",
            "text/plain": [
              "<Figure size 842.4x595.44 with 1 Axes>"
            ]
          },
          "metadata": {
            "tags": []
          }
        },
        {
          "output_type": "display_data",
          "data": {
            "image/png": "[encoded data removed]",
            "text/plain": [
              "<Figure size 842.4x595.44 with 1 Axes>"
            ]
          },
          "metadata": {
            "tags": []
          }
        },
        {
          "output_type": "stream",
          "text": [
            "the best result is for alpha= 13.894954943731374  with RMSE =  7.973440058734532  and R^2 =  0.566816834657891\n"
          ],
          "name": "stdout"
        }
      ]
    },
    {
      "metadata": {
        "id": "jzxu6fKIqIjx",
        "colab_type": "text"
      },
      "cell_type": "markdown",
      "source": [
        "<font color=blue>__Lasso regression__</font>"
      ]
    },
    {
      "metadata": {
        "id": "j-4ubp7rqIjy",
        "colab_type": "code",
        "colab": {
          "base_uri": "https://localhost:8080/",
          "height": 1341
        },
        "outputId": "99d468b2-251d-4860-b5d3-3396cd357302"
      },
      "cell_type": "code",
      "source": [
        "r2=[0 for i in range(15)]\n",
        "rmse=[0 for i in range(15)]\n",
        "n_alphas = 15\n",
        "alphas = np.logspace(0.5,1.5, n_alphas)\n",
        "\n",
        "for i in tqdm(range(0,15)):\n",
        "    lass = Lasso(alpha = alphas[i])\n",
        "    score = cross_val_score(lass, X, Y, cv=10, scoring='neg_mean_squared_error')\n",
        "    rmse[i] = np.sqrt(score.mean()*-1)\n",
        "    lass.fit(X,Y)\n",
        "    r2[i] = lass.score(X,Y)\n",
        "    \n",
        "plt.plot(alphas,r2)\n",
        "plt.ylabel('R^2')\n",
        "plt.xlabel('alpha')\n",
        "plt.title('Lasso regression R^2')\n",
        "plt.show()\n",
        "\n",
        "plt.plot(alphas,rmse)\n",
        "plt.ylabel('RMSE')\n",
        "plt.xlabel('alpha')\n",
        "plt.title('Lasso regression 10 fold cross validation RMSE')\n",
        "plt.show()\n",
        "\n",
        "best = np.argmin(rmse)\n",
        "print(\"the best result is for alpha=\", alphas[best], \" with RMSE = \", rmse[best], \" and R^2 = \", r2[best])"
      ],
      "execution_count": 52,
      "outputs": [
        {
          "output_type": "stream",
          "text": [
            "\n",
            "  0%|          | 0/15 [00:00<?, ?it/s]\n",
            "  7%|▋         | 1/15 [02:55<40:57, 175.51s/it]\n",
            " 13%|█▎        | 2/15 [05:13<35:33, 164.11s/it]\n",
            " 20%|██        | 3/15 [07:14<30:17, 151.45s/it]\n",
            " 27%|██▋       | 4/15 [09:22<26:27, 144.28s/it]\n",
            " 33%|███▎      | 5/15 [11:58<24:36, 147.69s/it]\n",
            " 40%|████      | 6/15 [14:23<22:02, 146.95s/it]\n",
            " 47%|████▋     | 7/15 [16:44<19:22, 145.27s/it]\n",
            " 53%|█████▎    | 8/15 [19:03<16:43, 143.38s/it]\n",
            " 60%|██████    | 9/15 [20:40<12:55, 129.28s/it]\n",
            " 67%|██████▋   | 10/15 [21:57<09:29, 113.81s/it]\n",
            " 73%|███████▎  | 11/15 [23:01<06:35, 98.91s/it] \n",
            " 80%|████████  | 12/15 [23:46<04:08, 82.74s/it]\n",
            " 87%|████████▋ | 13/15 [24:29<02:21, 70.68s/it]\n",
            " 93%|█████████▎| 14/15 [25:08<01:01, 61.11s/it]\n",
            "100%|██████████| 15/15 [25:45<00:00, 53.92s/it]\n"
          ],
          "name": "stderr"
        },
        {
          "output_type": "display_data",
          "data": {
            "image/png": "[encoded data removed]",
            "text/plain": [
              "<Figure size 842.4x595.44 with 1 Axes>"
            ]
          },
          "metadata": {
            "tags": []
          }
        },
        {
          "output_type": "display_data",
          "data": {
            "image/png": "[encoded data removed]",
            "text/plain": [
              "<Figure size 842.4x595.44 with 1 Axes>"
            ]
          },
          "metadata": {
            "tags": []
          }
        },
        {
          "output_type": "stream",
          "text": [
            "the best result is for alpha= 3.1622776601683795  with RMSE =  10.076163254127346  and R^2 =  0.23123853006754425\n"
          ],
          "name": "stdout"
        }
      ]
    },
    {
      "metadata": {
        "id": "pmsIc4J0qIj3",
        "colab_type": "text"
      },
      "cell_type": "markdown",
      "source": [
        "from both ridge and lasso, we understand that regularization does not improve our results. We will have to try different methods in order to reduce dimensionality."
      ]
    },
    {
      "metadata": {
        "id": "McWQDZ9eqIj4",
        "colab_type": "text"
      },
      "cell_type": "markdown",
      "source": [
        "<font color=blue>__KNN Classification__</font>"
      ]
    },
    {
      "metadata": {
        "id": "NhqOMLdCqIj4",
        "colab_type": "text"
      },
      "cell_type": "markdown",
      "source": [
        "since we now predict in bins of 1K, we want to use classification instead of regression.\n",
        "But some of the class are very small so we cannot use k-fold cross-validation.\n",
        "We will implement semi-cross validation by randomly divide the data 10 times to train and test"
      ]
    },
    {
      "metadata": {
        "id": "p8ZgXVmQqIj5",
        "colab_type": "code",
        "colab": {
          "base_uri": "https://localhost:8080/",
          "height": 1341
        },
        "outputId": "0f63a8d4-bb0a-49cf-a3f0-ed2a1a067872"
      },
      "cell_type": "code",
      "source": [
        "r2=[0 for i in range(15)]\n",
        "rmse=[0 for i in range(15)]\n",
        "\n",
        "for i in tqdm(range(1,16)):\n",
        "    score=[]\n",
        "    for j in range(10):\n",
        "        X_train, X_test, y_train, y_test = train_test_split(X, Y, test_size=0.2)\n",
        "        neigh = KNeighborsClassifier(n_neighbors=i)\n",
        "        neigh.fit(X_train, y_train)\n",
        "        pred = neigh.predict(X_test)\n",
        "        pred = pd.DataFrame(pred)\n",
        "        pred['round'] = pred[0]\n",
        "        pred = pred['round']\n",
        "        pred = pd.DataFrame(pred)\n",
        "        y_test=pd.DataFrame(y_test)\n",
        "        df1 = pd.DataFrame(y_test.attendance_in_thousands.tolist())\n",
        "        df2 = pd.DataFrame(pred['round'].tolist())\n",
        "        df = pd.concat([df1,df2],axis=1)\n",
        "        df.columns=['a','b']\n",
        "        score.append(((df['a']-df['b']) ** 2).mean() ** .5)\n",
        "    rmse[i-1]= sum(score)/10\n",
        "    r2[i-1] = neigh.score(X,Y)\n",
        "\n",
        "plt.plot([i for i in range(1,16)],r2)\n",
        "plt.ylabel('R^2')\n",
        "plt.xlabel('k')\n",
        "plt.title('KNN classification R^2')\n",
        "plt.show()\n",
        "\n",
        "plt.plot([i for i in range(1,16)],rmse)\n",
        "plt.ylabel('RMSE')\n",
        "plt.xlabel('k')\n",
        "plt.title('KNN classification cross validation RMSE')\n",
        "plt.show()\n",
        "\n",
        "best = np.argmin(rmse)\n",
        "print(\"the best result is for k=\", best+1, \" with RMSE = \", rmse[best], \" and R^2 = \", r2[best])"
      ],
      "execution_count": 53,
      "outputs": [
        {
          "output_type": "stream",
          "text": [
            "\n",
            "  0%|          | 0/15 [00:00<?, ?it/s]\n",
            "  7%|▋         | 1/15 [00:42<09:54, 42.46s/it]\n",
            " 13%|█▎        | 2/15 [01:30<09:33, 44.14s/it]\n",
            " 20%|██        | 3/15 [02:18<09:02, 45.24s/it]\n",
            " 27%|██▋       | 4/15 [03:07<08:30, 46.37s/it]\n",
            " 33%|███▎      | 5/15 [03:57<07:53, 47.38s/it]\n",
            " 40%|████      | 6/15 [04:47<07:15, 48.43s/it]\n",
            " 47%|████▋     | 7/15 [05:40<06:37, 49.65s/it]\n",
            " 53%|█████▎    | 8/15 [06:35<05:59, 51.36s/it]\n",
            " 60%|██████    | 9/15 [07:29<05:12, 52.09s/it]\n",
            " 67%|██████▋   | 10/15 [08:24<04:25, 53.00s/it]\n",
            " 73%|███████▎  | 11/15 [09:21<03:36, 54.09s/it]\n",
            " 80%|████████  | 12/15 [10:18<02:45, 55.00s/it]\n",
            " 87%|████████▋ | 13/15 [11:18<01:53, 56.61s/it]\n",
            " 93%|█████████▎| 14/15 [12:18<00:57, 57.58s/it]\n",
            "100%|██████████| 15/15 [13:18<00:00, 58.19s/it]\n"
          ],
          "name": "stderr"
        },
        {
          "output_type": "display_data",
          "data": {
            "image/png": "[encoded data removed]",
            "text/plain": [
              "<Figure size 842.4x595.44 with 1 Axes>"
            ]
          },
          "metadata": {
            "tags": []
          }
        },
        {
          "output_type": "display_data",
          "data": {
            "image/png": "[encoded data removed]",
            "text/plain": [
              "<Figure size 842.4x595.44 with 1 Axes>"
            ]
          },
          "metadata": {
            "tags": []
          }
        },
        {
          "output_type": "stream",
          "text": [
            "the best result is for k= 1  with RMSE =  7.225836778952508  and R^2 =  0.8304799802578814\n"
          ],
          "name": "stdout"
        }
      ]
    },
    {
      "metadata": {
        "id": "TzPckcleqIj9",
        "colab_type": "text"
      },
      "cell_type": "markdown",
      "source": [
        "<font color=blue>__PCA and linear regression__</font>"
      ]
    },
    {
      "metadata": {
        "id": "-Jqdg64IqIj_",
        "colab_type": "code",
        "colab": {
          "base_uri": "https://localhost:8080/",
          "height": 1171
        },
        "outputId": "cb066aa2-7e8a-48e8-900f-08d0e04941cc"
      },
      "cell_type": "code",
      "source": [
        "r2=[0 for i in range(5)]\n",
        "rmse=[0 for i in range(5)]\n",
        "components = [i for i in range(60,110,10)]\n",
        "\n",
        "for i in tqdm(range(5)):\n",
        "    pca = PCA(n_components=components[i])\n",
        "    X_pca = pca.fit_transform(X)\n",
        "    lm = linear_model.LinearRegression()\n",
        "    score = cross_val_score(lm, X_pca, Y, cv=10, scoring='neg_mean_squared_error')\n",
        "    rmse[i] = np.sqrt(score.mean()*-1)\n",
        "    lm.fit(X_pca,Y)\n",
        "    r2[i] = lm.score(X_pca,Y)\n",
        "    \n",
        "plt.plot(components,r2)\n",
        "plt.ylabel('R^2')\n",
        "plt.xlabel('components')\n",
        "plt.title('linear regression R^2')\n",
        "plt.show()\n",
        "\n",
        "plt.plot(components,rmse)\n",
        "plt.ylabel('RMSE')\n",
        "plt.xlabel('components')\n",
        "plt.title('linear regression 10 fold cross validation RMSE')\n",
        "plt.show()\n",
        "\n",
        "best = np.argmin(rmse)\n",
        "print(\"the best result is for \",components[best] , \"components with RMSE = \", rmse[best], \" and R^2 = \", r2[best])"
      ],
      "execution_count": 54,
      "outputs": [
        {
          "output_type": "stream",
          "text": [
            "\n",
            "  0%|          | 0/5 [00:00<?, ?it/s]\n",
            " 20%|██        | 1/5 [00:07<00:29,  7.38s/it]\n",
            " 40%|████      | 2/5 [00:15<00:23,  7.73s/it]\n",
            " 60%|██████    | 3/5 [00:25<00:16,  8.39s/it]\n",
            " 80%|████████  | 4/5 [00:37<00:09,  9.26s/it]\n",
            "100%|██████████| 5/5 [00:50<00:00, 10.43s/it]\n"
          ],
          "name": "stderr"
        },
        {
          "output_type": "display_data",
          "data": {
            "image/png": "[encoded data removed]",
            "text/plain": [
              "<Figure size 842.4x595.44 with 1 Axes>"
            ]
          },
          "metadata": {
            "tags": []
          }
        },
        {
          "output_type": "display_data",
          "data": {
            "image/png": "[encoded data removed]",
            "text/plain": [
              "<Figure size 842.4x595.44 with 1 Axes>"
            ]
          },
          "metadata": {
            "tags": []
          }
        },
        {
          "output_type": "stream",
          "text": [
            "the best result is for  100 components with RMSE =  8.702321953477036  and R^2 =  0.4588722144352073\n"
          ],
          "name": "stdout"
        }
      ]
    },
    {
      "metadata": {
        "id": "G83CIRFRqIkB",
        "colab_type": "text"
      },
      "cell_type": "markdown",
      "source": [
        "Again we can see that the RMSE decreases as we use more components, that is returning to the original dimension. \n",
        "<br>\n",
        "Since it is clear that the new features did improve the overall performers, they are correlated to the response and there is no redundancy of features, we now change our strategy and try to add even more informative features while handling regularization and dimensionality reduction in other ways."
      ]
    },
    {
      "metadata": {
        "id": "QD2cCMRcqIkC",
        "colab_type": "text"
      },
      "cell_type": "markdown",
      "source": [
        "## Feature Engineering\n",
        "We go back to add more fetures. \n",
        "<br>\n",
        "__Feature Engineering__:\n",
        "<br>\n",
        "- _contention score_ - probability of reaching the playoffs given the teams rank in the division, current win record and number of games left to the season. (numeric)"
      ]
    },
    {
      "metadata": {
        "id": "1oQMWy4VqIkC",
        "colab_type": "text"
      },
      "cell_type": "markdown",
      "source": [
        "__Integrations__: \n",
        "<br>\n",
        "- _ticket price_  - average regular game ticket price (USD not adjusted for inflation) for that team/season. Normalized against average ticket prices for all teams in each season (numeric)\n",
        "<br>\n",
        "- _player age_  - 2 new features (for each team): average and max player's age. when age is the total number of games to date a player has appeared in an opening lineup. Normalized against player ages for all players/games. (numeric)"
      ]
    },
    {
      "metadata": {
        "id": "pX0WTD_4qIkD",
        "colab_type": "code",
        "colab": {}
      },
      "cell_type": "code",
      "source": [
        "data_as_dict = data.to_dict(\"records\")\n",
        "contention_score(data_as_dict)\n",
        "ticket_price(data_as_dict)\n",
        "player_age(data_as_dict)\n",
        "data = pd.DataFrame().from_records(data_as_dict)\n",
        "\n",
        "data_for_modeling = data[data['attendance']!=0]\n",
        "data_for_modeling = data_for_modeling[data_for_modeling.attendance.notnull()]"
      ],
      "execution_count": 0,
      "outputs": []
    },
    {
      "metadata": {
        "id": "A2kR7YN5qIkE",
        "colab_type": "text"
      },
      "cell_type": "markdown",
      "source": [
        "## Modeling\n",
        "### attempts to reduce dimensionality"
      ]
    },
    {
      "metadata": {
        "id": "Lb9b1NEjqIkF",
        "colab_type": "text"
      },
      "cell_type": "markdown",
      "source": [
        "#### different model for each home team"
      ]
    },
    {
      "metadata": {
        "id": "lmMjbGcWqIkF",
        "colab_type": "code",
        "colab": {}
      },
      "cell_type": "code",
      "source": [
        "data_for_modeling['attendance_in_thousands'] = data_for_modeling['attendance'].apply(lambda x: int(round(x, -3)/1000))\n",
        "\n",
        "# treat the days as categorial data \n",
        "data_for_modeling['day_of_week'] = data_for_modeling['day_of_week'].astype('category')\n",
        "data_for_modeling['day_of_week'] = data_for_modeling['day_of_week'].cat.reorder_categories(['Mon', 'Tue', 'Wed','Thu','Fri','Sat','Sun'], ordered=True)\n",
        "data_for_modeling['day_of_week'] = data_for_modeling['day_of_week'].cat.codes\n",
        "\n",
        "# one-hot encoding for the visiting team\n",
        "oh_visiting_team = pd.get_dummies(data_for_modeling['visiting_team'],prefix='visiting_team')\n",
        "\n",
        "# treat the leagues as categorial data \n",
        "cats = data_for_modeling[['visiting_team_league','home_team_league']].stack().sort_values().unique()\n",
        "data_for_modeling['visiting_team_league'] = pd.Categorical(data_for_modeling['visiting_team_league'], categories=cats)\n",
        "data_for_modeling['home_team_league'] = pd.Categorical(data_for_modeling['home_team_league'], categories=cats)\n",
        "data_for_modeling[['visiting_team_league','home_team_league']] = data_for_modeling[['visiting_team_league','home_team_league']].apply(lambda x: x.cat.codes)\n",
        "\n",
        "# one-hot encoding for the team's division\n",
        "oh_visiting_team_division = pd.get_dummies(data_for_modeling['visiting_team_division'],prefix='visiting_team_division')\n",
        "oh_home_team_division = pd.get_dummies(data_for_modeling['home_team_division'],prefix='home_team_division')\n",
        "\n",
        "# treat the game time as categorial data \n",
        "data_for_modeling['game_time'] = data_for_modeling['game_time'].astype('category')\n",
        "data_for_modeling['game_time'] = data_for_modeling['game_time'].cat.codes\n",
        "\n",
        "# one-hot encoding for the park ids\n",
        "oh_park_id = pd.get_dummies(data_for_modeling['park_id'],prefix='park_id')\n",
        "\n",
        "post_game_features_and_players.remove('home_team')\n",
        "\n",
        "X = data_for_modeling.drop(post_game_features_and_players,axis=1)\n",
        "X = pd.concat([X,oh_visiting_team,oh_visiting_team_division,oh_home_team_division,oh_park_id],axis=1)\n",
        "#convert the date to date type\n",
        "X['date'] = pd.to_datetime(X['date'])\n",
        "X['date']=X['date'].map(datetime.toordinal)"
      ],
      "execution_count": 0,
      "outputs": []
    },
    {
      "metadata": {
        "id": "opWx1l89qIkI",
        "colab_type": "code",
        "colab": {
          "base_uri": "https://localhost:8080/",
          "height": 54
        },
        "outputId": "75870a05-6643-4632-ae49-8cd6ffae00ae"
      },
      "cell_type": "code",
      "source": [
        "print(\"the dimension of data - a separate model for each team\", X.shape)"
      ],
      "execution_count": 57,
      "outputs": [
        {
          "output_type": "stream",
          "text": [
            "the dimension of data - a separate model for each team (64836, 185)\n"
          ],
          "name": "stdout"
        }
      ]
    },
    {
      "metadata": {
        "id": "RgpMzFHiqIkN",
        "colab_type": "code",
        "colab": {
          "base_uri": "https://localhost:8080/",
          "height": 1051
        },
        "outputId": "7c2cd1d9-63e1-415e-afb7-a691162a2d22"
      },
      "cell_type": "code",
      "source": [
        "list_of_teams = list(set(X['home_team']))\n",
        "rmse_per_team = [0 for i in range(len(list_of_teams))]\n",
        "r2_per_team = [0 for i in range(len(list_of_teams))]\n",
        "for i in tqdm(range(len(list_of_teams))):\n",
        "    df_per_team = X[X['home_team'] == list_of_teams[i]]\n",
        "    Y_per_team = df_per_team['attendance_in_thousands']\n",
        "    X_per_team = df_per_team.drop(['attendance_in_thousands','home_team'], axis = 1)\n",
        "    rdfr = RandomForestRegressor(n_estimators = 20)\n",
        "    score = cross_val_score(rdfr, X_per_team, Y_per_team, cv=10, scoring='neg_mean_squared_error')\n",
        "    rmse_per_team[i] = np.sqrt(score.mean()*-1)\n",
        "    rdfr.fit(X_per_team,Y_per_team)\n",
        "    r2_per_team[i] = rdfr.score(X_per_team,Y_per_team)\n",
        "\n",
        "#sort by rmse values and plot\n",
        "new_df = pd.DataFrame({'team':list_of_teams, 'rmse':rmse_per_team, 'r2':r2_per_team})\n",
        "new_df = new_df.sort_values(by = ['rmse'])\n",
        "sort_rmse = new_df.rmse.tolist()\n",
        "mean = new_df['rmse'].mean()\n",
        "#mask above and below the mean \n",
        "mask_above = ma.masked_less(sort_rmse, mean)\n",
        "mask_below = ma.masked_greater(sort_rmse, mean)\n",
        "plt.figure(figsize = (14,7))\n",
        "plt.axhline(y=mean, color='gray', linestyle='--')\n",
        "plt.plot(new_df['team'], mask_above,'ro' )\n",
        "plt.plot(new_df['team'], mask_below, 'go')\n",
        "plt.ylabel('RMSE score', fontsize = 18)\n",
        "plt.xlabel('team name',fontsize = 18)\n",
        "textstr =\"mean = \" +str(\"%.3f\" % mean)\n",
        "plt.text(1, int(mean)+1, textstr, fontsize =14)\n",
        "plt.title('RMSE score per team using random forest', fontsize =20)\n",
        "\n",
        "plt.show()\n"
      ],
      "execution_count": 58,
      "outputs": [
        {
          "output_type": "stream",
          "text": [
            "\n",
            "  0%|          | 0/31 [00:00<?, ?it/s]\n",
            "  3%|▎         | 1/31 [00:17<08:40, 17.36s/it]\n",
            "  6%|▋         | 2/31 [00:33<08:10, 16.90s/it]\n",
            " 10%|▉         | 3/31 [00:48<07:36, 16.30s/it]\n",
            " 13%|█▎        | 4/31 [01:04<07:24, 16.47s/it]\n",
            " 16%|█▌        | 5/31 [01:20<07:03, 16.29s/it]\n",
            " 19%|█▉        | 6/31 [01:37<06:47, 16.29s/it]\n",
            " 23%|██▎       | 7/31 [01:53<06:30, 16.29s/it]\n",
            " 26%|██▌       | 8/31 [02:09<06:13, 16.26s/it]\n",
            " 29%|██▉       | 9/31 [02:27<06:07, 16.72s/it]\n",
            " 32%|███▏      | 10/31 [02:44<05:54, 16.87s/it]\n",
            " 35%|███▌      | 11/31 [03:00<05:33, 16.66s/it]\n",
            " 39%|███▊      | 12/31 [03:17<05:17, 16.70s/it]\n",
            " 42%|████▏     | 13/31 [03:34<05:00, 16.71s/it]\n",
            " 45%|████▌     | 14/31 [03:41<03:54, 13.77s/it]\n",
            " 48%|████▊     | 15/31 [04:00<04:05, 15.36s/it]\n",
            " 52%|█████▏    | 16/31 [04:17<03:56, 15.77s/it]\n",
            " 55%|█████▍    | 17/31 [04:33<03:44, 16.01s/it]\n",
            " 58%|█████▊    | 18/31 [04:49<03:28, 16.05s/it]\n",
            " 61%|██████▏   | 19/31 [05:06<03:15, 16.31s/it]\n",
            " 65%|██████▍   | 20/31 [05:23<03:02, 16.59s/it]\n",
            " 68%|██████▊   | 21/31 [05:40<02:45, 16.52s/it]\n",
            " 71%|███████   | 22/31 [05:57<02:30, 16.72s/it]\n",
            " 74%|███████▍  | 23/31 [06:05<01:53, 14.21s/it]\n",
            " 77%|███████▋  | 24/31 [06:21<01:42, 14.67s/it]\n",
            " 81%|████████  | 25/31 [06:37<01:31, 15.19s/it]\n",
            " 84%|████████▍ | 26/31 [06:50<01:11, 14.32s/it]\n",
            " 87%|████████▋ | 27/31 [07:07<01:00, 15.08s/it]\n",
            " 90%|█████████ | 28/31 [07:23<00:46, 15.43s/it]\n",
            " 94%|█████████▎| 29/31 [07:40<00:31, 15.86s/it]\n",
            " 97%|█████████▋| 30/31 [07:56<00:15, 15.87s/it]\n",
            "100%|██████████| 31/31 [08:08<00:00, 14.93s/it]\n"
          ],
          "name": "stderr"
        },
        {
          "output_type": "display_data",
          "data": {
            "image/png": "[encoded data removed]",
            "text/plain": [
              "<Figure size 1008x504 with 1 Axes>"
            ]
          },
          "metadata": {
            "tags": []
          }
        }
      ]
    },
    {
      "metadata": {
        "id": "oEZ5L1gOqIkS",
        "colab_type": "text"
      },
      "cell_type": "markdown",
      "source": [
        "There is a high variation between the performers on different teams. For example, the model for team 'BOS' is very good while the one for the team 'CLE' is among the poor models. This makes sense when we remember the differences in attendece's distributions between the two teams as was shown earlier in the database analysis process."
      ]
    },
    {
      "metadata": {
        "id": "fhXzUdVrqIkT",
        "colab_type": "text"
      },
      "cell_type": "markdown",
      "source": [
        "Since the models are not stable, we go back to creating one model for the entire data."
      ]
    },
    {
      "metadata": {
        "id": "BbaCTuB5qIkU",
        "colab_type": "text"
      },
      "cell_type": "markdown",
      "source": [
        "#### using trees based methods - Random forest\n",
        "In order to reduce dimensionality, we will not use one hot encoding, instead we use methods that can handle categorical variables."
      ]
    },
    {
      "metadata": {
        "id": "cZd--t2IqIkU",
        "colab_type": "code",
        "colab": {}
      },
      "cell_type": "code",
      "source": [
        "data_for_modeling = data[data['attendance']!=0]\n",
        "data_for_modeling = data_for_modeling[data_for_modeling.attendance.notnull()]\n",
        "data_for_modeling['attendance_in_thousands'] = data_for_modeling['attendance'].apply(lambda x: int(round(x, -3)/1000))\n",
        "# treat the days as categorial data \n",
        "data_for_modeling['day_of_week'] = data_for_modeling['day_of_week'].astype('category')\n",
        "data_for_modeling['day_of_week'] = data_for_modeling['day_of_week'].cat.reorder_categories(['Mon', 'Tue', 'Wed','Thu','Fri','Sat','Sun'], ordered=True)\n",
        "data_for_modeling['day_of_week'] = data_for_modeling['day_of_week'].cat.codes\n",
        "\n",
        "# treat the leagues as categorial data \n",
        "cats = data_for_modeling[['visiting_team_league','home_team_league']].stack().sort_values().unique()\n",
        "data_for_modeling['visiting_team_league'] = pd.Categorical(data_for_modeling['visiting_team_league'], categories=cats)\n",
        "data_for_modeling['home_team_league'] = pd.Categorical(data_for_modeling['home_team_league'], categories=cats)\n",
        "data_for_modeling[['visiting_team_league','home_team_league']] = data_for_modeling[['visiting_team_league','home_team_league']].apply(lambda x: x.cat.codes)\n",
        "\n",
        "# treat the game time as categorial data \n",
        "data_for_modeling['game_time'] = data_for_modeling['game_time'].astype('category')\n",
        "data_for_modeling['game_time'] = data_for_modeling['game_time'].cat.codes\n",
        "\n",
        "#do not drop the features that we used to one-hot\n",
        "post_game_features_and_players.remove('visiting_team')\n",
        "post_game_features_and_players.remove('visiting_team_division')\n",
        "post_game_features_and_players.remove('home_team_division')\n",
        "post_game_features_and_players.remove('park_id')\n",
        "\n",
        "X = data_for_modeling.drop(post_game_features_and_players,axis=1)\n",
        "#convert the date to date type\n",
        "X['date'] = pd.to_datetime(X['date'])\n",
        "X['date']=X['date'].map(datetime.toordinal)"
      ],
      "execution_count": 0,
      "outputs": []
    },
    {
      "metadata": {
        "id": "RmAi7_LeqIkV",
        "colab_type": "code",
        "colab": {
          "base_uri": "https://localhost:8080/",
          "height": 34
        },
        "outputId": "6fdc8205-292b-47d4-f267-71935ab63207"
      },
      "cell_type": "code",
      "source": [
        "print(\"final dimension of data (no one hot encoding)\", X.shape)"
      ],
      "execution_count": 60,
      "outputs": [
        {
          "output_type": "stream",
          "text": [
            "final dimension of data (no one hot encoding) (64836, 90)\n"
          ],
          "name": "stdout"
        }
      ]
    },
    {
      "metadata": {
        "id": "t4ExOlQKqIkZ",
        "colab_type": "code",
        "colab": {
          "base_uri": "https://localhost:8080/",
          "height": 766
        },
        "outputId": "3e3c7ceb-88a6-4bec-ea66-498bfef7ea5c"
      },
      "cell_type": "code",
      "source": [
        "h2o.init()\n",
        "h2oData = h2o.H2OFrame(X)\n",
        "train,test = h2oData.split_frame(ratios=[0.8], seed = 1)\n",
        "model = H2ORandomForestEstimator(nfolds=10, stopping_metric=\"RMSE\", seed = 1)\n",
        "training_columns = h2oData.columns\n",
        "training_columns.remove('attendance_in_thousands')\n",
        "response_column = 'attendance_in_thousands'\n",
        "model.train(x=training_columns, y=response_column, training_frame=train)\n",
        "performance = model.model_performance(test_data=test)\n",
        "\n",
        "print (performance)\n",
        "print (\"R2: \" + str(model.r2()))\n",
        "h2o.cluster().shutdown()"
      ],
      "execution_count": 61,
      "outputs": [
        {
          "output_type": "stream",
          "text": [
            "Checking whether there is an H2O instance running at http://localhost:54321..... not found.\n",
            "Attempting to start a local H2O server...\n",
            "  Java Version: openjdk version \"10.0.2\" 2018-07-17; OpenJDK Runtime Environment (build 10.0.2+13-Ubuntu-1ubuntu0.18.04.4); OpenJDK 64-Bit Server VM (build 10.0.2+13-Ubuntu-1ubuntu0.18.04.4, mixed mode)\n",
            "  Starting server from /usr/local/lib/python3.6/dist-packages/h2o/backend/bin/h2o.jar\n",
            "  Ice root: /tmp/tmpdiwytdy7\n",
            "  JVM stdout: /tmp/tmpdiwytdy7/h2o_unknownUser_started_from_python.out\n",
            "  JVM stderr: /tmp/tmpdiwytdy7/h2o_unknownUser_started_from_python.err\n",
            "  Server is running at http://127.0.0.1:54321\n",
            "Connecting to H2O server at http://127.0.0.1:54321... successful.\n"
          ],
          "name": "stdout"
        },
        {
          "output_type": "display_data",
          "data": {
            "text/html": [
              "<div style=\"overflow:auto\"><table style=\"width:50%\"><tr><td>H2O cluster uptime:</td>\n",
              "<td>03 secs</td></tr>\n",
              "<tr><td>H2O cluster timezone:</td>\n",
              "<td>Etc/UTC</td></tr>\n",
              "<tr><td>H2O data parsing timezone:</td>\n",
              "<td>UTC</td></tr>\n",
              "<tr><td>H2O cluster version:</td>\n",
              "<td>3.22.1.4</td></tr>\n",
              "<tr><td>H2O cluster version age:</td>\n",
              "<td>4 days </td></tr>\n",
              "<tr><td>H2O cluster name:</td>\n",
              "<td>H2O_from_python_unknownUser_u2mfw2</td></tr>\n",
              "<tr><td>H2O cluster total nodes:</td>\n",
              "<td>1</td></tr>\n",
              "<tr><td>H2O cluster free memory:</td>\n",
              "<td>3 Gb</td></tr>\n",
              "<tr><td>H2O cluster total cores:</td>\n",
              "<td>2</td></tr>\n",
              "<tr><td>H2O cluster allowed cores:</td>\n",
              "<td>2</td></tr>\n",
              "<tr><td>H2O cluster status:</td>\n",
              "<td>accepting new members, healthy</td></tr>\n",
              "<tr><td>H2O connection url:</td>\n",
              "<td>http://127.0.0.1:54321</td></tr>\n",
              "<tr><td>H2O connection proxy:</td>\n",
              "<td>None</td></tr>\n",
              "<tr><td>H2O internal security:</td>\n",
              "<td>False</td></tr>\n",
              "<tr><td>H2O API Extensions:</td>\n",
              "<td>Amazon S3, XGBoost, Algos, AutoML, Core V3, Core V4</td></tr>\n",
              "<tr><td>Python version:</td>\n",
              "<td>3.6.7 final</td></tr></table></div>"
            ],
            "text/plain": [
              "--------------------------  ---------------------------------------------------\n",
              "H2O cluster uptime:         03 secs\n",
              "H2O cluster timezone:       Etc/UTC\n",
              "H2O data parsing timezone:  UTC\n",
              "H2O cluster version:        3.22.1.4\n",
              "H2O cluster version age:    4 days\n",
              "H2O cluster name:           H2O_from_python_unknownUser_u2mfw2\n",
              "H2O cluster total nodes:    1\n",
              "H2O cluster free memory:    3 Gb\n",
              "H2O cluster total cores:    2\n",
              "H2O cluster allowed cores:  2\n",
              "H2O cluster status:         accepting new members, healthy\n",
              "H2O connection url:         http://127.0.0.1:54321\n",
              "H2O connection proxy:\n",
              "H2O internal security:      False\n",
              "H2O API Extensions:         Amazon S3, XGBoost, Algos, AutoML, Core V3, Core V4\n",
              "Python version:             3.6.7 final\n",
              "--------------------------  ---------------------------------------------------"
            ]
          },
          "metadata": {
            "tags": []
          }
        },
        {
          "output_type": "stream",
          "text": [
            "Parse progress: |█████████████████████████████████████████████████████████| 100%\n",
            "drf Model Build progress: |███████████████████████████████████████████████| 100%\n",
            "\n",
            "ModelMetricsRegression: drf\n",
            "** Reported on test data. **\n",
            "\n",
            "MSE: 26.353988946401184\n",
            "RMSE: 5.1336136343126935\n",
            "MAE: 3.7786549844919297\n",
            "RMSLE: 0.1977002904821377\n",
            "Mean Residual Deviance: 26.353988946401184\n",
            "\n",
            "R2: 0.777957341879252\n",
            "H2O session _sid_b4b6 closed.\n"
          ],
          "name": "stdout"
        }
      ]
    },
    {
      "metadata": {
        "id": "SuoqfnCPqIkd",
        "colab_type": "text"
      },
      "cell_type": "markdown",
      "source": [
        "#### Gradient Boosting\n",
        "our final attempt is to include boosting instead of bagging (random forest) in order to increase predictive force and to decrease bias."
      ]
    },
    {
      "metadata": {
        "id": "t2ZebdqPqIkd",
        "colab_type": "code",
        "colab": {
          "base_uri": "https://localhost:8080/",
          "height": 749
        },
        "outputId": "e2ead4dd-b6ef-4aa3-b92a-12ce99394552"
      },
      "cell_type": "code",
      "source": [
        "h2o.init()\n",
        "h2oData = h2o.H2OFrame(X)\n",
        "train,test = h2oData.split_frame(ratios=[0.8], seed = 1)\n",
        "grb = H2OGradientBoostingEstimator(ntrees=500, nfolds = 10, stopping_tolerance=0.06,balance_classes = True, seed = 1,\n",
        "                                   stopping_metric = \"rmse\")\n",
        "training_columns = h2oData.columns\n",
        "training_columns.remove('attendance_in_thousands')\n",
        "response_column = 'attendance_in_thousands'\n",
        "grb.train(x=training_columns, y=response_column, training_frame=train)\n",
        "performance = grb.model_performance(test_data=test)\n",
        "\n",
        "print (performance)\n",
        "print (\"R2: \" + str(grb.r2()))\n"
      ],
      "execution_count": 63,
      "outputs": [
        {
          "output_type": "stream",
          "text": [
            "Checking whether there is an H2O instance running at http://localhost:54321..... not found.\n",
            "Attempting to start a local H2O server...\n",
            "  Java Version: openjdk version \"10.0.2\" 2018-07-17; OpenJDK Runtime Environment (build 10.0.2+13-Ubuntu-1ubuntu0.18.04.4); OpenJDK 64-Bit Server VM (build 10.0.2+13-Ubuntu-1ubuntu0.18.04.4, mixed mode)\n",
            "  Starting server from /usr/local/lib/python3.6/dist-packages/h2o/backend/bin/h2o.jar\n",
            "  Ice root: /tmp/tmpyxakpq4g\n",
            "  JVM stdout: /tmp/tmpyxakpq4g/h2o_unknownUser_started_from_python.out\n",
            "  JVM stderr: /tmp/tmpyxakpq4g/h2o_unknownUser_started_from_python.err\n",
            "  Server is running at http://127.0.0.1:54321\n",
            "Connecting to H2O server at http://127.0.0.1:54321... successful.\n"
          ],
          "name": "stdout"
        },
        {
          "output_type": "display_data",
          "data": {
            "text/html": [
              "<div style=\"overflow:auto\"><table style=\"width:50%\"><tr><td>H2O cluster uptime:</td>\n",
              "<td>02 secs</td></tr>\n",
              "<tr><td>H2O cluster timezone:</td>\n",
              "<td>Etc/UTC</td></tr>\n",
              "<tr><td>H2O data parsing timezone:</td>\n",
              "<td>UTC</td></tr>\n",
              "<tr><td>H2O cluster version:</td>\n",
              "<td>3.22.1.4</td></tr>\n",
              "<tr><td>H2O cluster version age:</td>\n",
              "<td>4 days </td></tr>\n",
              "<tr><td>H2O cluster name:</td>\n",
              "<td>H2O_from_python_unknownUser_fesdj5</td></tr>\n",
              "<tr><td>H2O cluster total nodes:</td>\n",
              "<td>1</td></tr>\n",
              "<tr><td>H2O cluster free memory:</td>\n",
              "<td>3 Gb</td></tr>\n",
              "<tr><td>H2O cluster total cores:</td>\n",
              "<td>2</td></tr>\n",
              "<tr><td>H2O cluster allowed cores:</td>\n",
              "<td>2</td></tr>\n",
              "<tr><td>H2O cluster status:</td>\n",
              "<td>accepting new members, healthy</td></tr>\n",
              "<tr><td>H2O connection url:</td>\n",
              "<td>http://127.0.0.1:54321</td></tr>\n",
              "<tr><td>H2O connection proxy:</td>\n",
              "<td>None</td></tr>\n",
              "<tr><td>H2O internal security:</td>\n",
              "<td>False</td></tr>\n",
              "<tr><td>H2O API Extensions:</td>\n",
              "<td>Amazon S3, XGBoost, Algos, AutoML, Core V3, Core V4</td></tr>\n",
              "<tr><td>Python version:</td>\n",
              "<td>3.6.7 final</td></tr></table></div>"
            ],
            "text/plain": [
              "--------------------------  ---------------------------------------------------\n",
              "H2O cluster uptime:         02 secs\n",
              "H2O cluster timezone:       Etc/UTC\n",
              "H2O data parsing timezone:  UTC\n",
              "H2O cluster version:        3.22.1.4\n",
              "H2O cluster version age:    4 days\n",
              "H2O cluster name:           H2O_from_python_unknownUser_fesdj5\n",
              "H2O cluster total nodes:    1\n",
              "H2O cluster free memory:    3 Gb\n",
              "H2O cluster total cores:    2\n",
              "H2O cluster allowed cores:  2\n",
              "H2O cluster status:         accepting new members, healthy\n",
              "H2O connection url:         http://127.0.0.1:54321\n",
              "H2O connection proxy:\n",
              "H2O internal security:      False\n",
              "H2O API Extensions:         Amazon S3, XGBoost, Algos, AutoML, Core V3, Core V4\n",
              "Python version:             3.6.7 final\n",
              "--------------------------  ---------------------------------------------------"
            ]
          },
          "metadata": {
            "tags": []
          }
        },
        {
          "output_type": "stream",
          "text": [
            "Parse progress: |█████████████████████████████████████████████████████████| 100%\n",
            "gbm Model Build progress: |███████████████████████████████████████████████| 100%\n",
            "\n",
            "ModelMetricsRegression: gbm\n",
            "** Reported on test data. **\n",
            "\n",
            "MSE: 22.423580404280433\n",
            "RMSE: 4.735354306097953\n",
            "MAE: 3.46704167385258\n",
            "RMSLE: 0.1791375350456192\n",
            "Mean Residual Deviance: 22.423580404280433\n",
            "\n",
            "R2: 0.893668657373426\n"
          ],
          "name": "stdout"
        }
      ]
    },
    {
      "metadata": {
        "id": "byaiLuWRqIkf",
        "colab_type": "text"
      },
      "cell_type": "markdown",
      "source": [
        "## statistical evaluation"
      ]
    },
    {
      "metadata": {
        "id": "KWm0V0CTqIkg",
        "colab_type": "code",
        "colab": {
          "base_uri": "https://localhost:8080/",
          "height": 489
        },
        "outputId": "229f9f6d-c475-4dd0-fac2-003131820d02"
      },
      "cell_type": "code",
      "source": [
        "plt.rcdefaults()\n",
        "fig, ax = plt.subplots()\n",
        "variables = grb._model_json['output']['variable_importances']['variable'][:10]\n",
        "y_pos = np.arange(len(variables))\n",
        "scaled_importance = grb._model_json['output']['variable_importances']['scaled_importance'][:10]\n",
        "ax.barh(y_pos, scaled_importance, align='center', color='green', ecolor='black')\n",
        "ax.set_yticks(y_pos)\n",
        "ax.set_yticklabels(variables)\n",
        "ax.invert_yaxis()\n",
        "ax.set_xlabel('Scaled Importance')\n",
        "ax.set_title('Variable Importance - Top 10')\n",
        "plt.show()\n",
        "\n",
        "h2o.cluster().shutdown()"
      ],
      "execution_count": 64,
      "outputs": [
        {
          "output_type": "display_data",
          "data": {
            "image/png": "[encoded data removed]",
            "text/plain": [
              "<Figure size 640x480 with 1 Axes>"
            ]
          },
          "metadata": {
            "tags": []
          }
        },
        {
          "output_type": "stream",
          "text": [
            "H2O session _sid_8992 closed.\n"
          ],
          "name": "stdout"
        }
      ]
    },
    {
      "metadata": {
        "id": "t3HfF0PDqIkh",
        "colab_type": "text"
      },
      "cell_type": "markdown",
      "source": [
        "## conclusion"
      ]
    },
    {
      "metadata": {
        "id": "V0GHB3IRqIki",
        "colab_type": "text"
      },
      "cell_type": "markdown",
      "source": [
        "Our best and final model is Gradient Boosting of trees that can handle categorical variables. \n",
        "<br>\n",
        "The model uses a high number of tree but also a high stopping tolerance (helps to reduce overfitting). \n",
        "<br>\n",
        "We hope you enjoyed reading the notebook as much as we enjoyed creating it. \n",
        "<br>\n",
        "See you at the next baseball game! \n"
      ]
    }
  ]
}